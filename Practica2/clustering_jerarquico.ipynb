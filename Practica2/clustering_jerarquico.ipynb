








<!DOCTYPE html>
<html lang="en">

<head>
  <meta charset="utf-8">
  <title>Jupyter Notebook Viewer</title>
  <meta name="viewport" content="width=device-width, initial-scale=1.0">
  <meta name="description" content="">
  <meta name="author" content="">
  
  <meta name="robots" content="noindex,nofollow">
  

  <!--NEW RELIC Start Perf Measurement-->
  
  <!--NREND-->

  <!-- Le styles -->
  <link href="/static/build/styles.css?v=f2b0b1b8f36a035146061040aa080202" rel="stylesheet">

  <!-- Le HTML5 shim, for IE6-8 support of HTML5 elements -->
  <!--[if lt IE 9]>
    <script src="http://html5shim.googlecode.com/svn/trunk/html5.js"></script>
  <![endif]-->

  <!-- Le fav and touch icons -->
  <link rel="shortcut icon" href="/static/ico/ipynb_icon_16x16.png">
  <link rel="apple-touch-icon-precomposed" sizes="144x144"
        href="/static/ico/apple-touch-icon-144-precomposed.png?v=5a3c9ede93e2a8b8ea9e3f8f3da1a905">
  <link rel="apple-touch-icon-precomposed" sizes="114x114"
        href="/static/ico/apple-touch-icon-114-precomposed.png?v=45d86fc8f24dc00638035e1dd7a6d898">
  <link rel="apple-touch-icon-precomposed" sizes="72x72"
        href="/static/ico/apple-touch-icon-72-precomposed.png?v=540b5eb0f3cfd25f1439d1c9bd30e15f">
  <link rel="apple-touch-icon-precomposed"
        href="/static/ico/apple-touch-icon-57-precomposed.png?v=225f0590e187e1458625654f10a28f56">
  
  

  

  
  <meta name="twitter:card" content="summary">
  <meta name="twitter:title" content="Notebook on nbviewer">
  <meta name="twitter:description" content="Check out this Jupyter notebook!">

  
  <meta name="twitter:domain" content="nbviewer.jupyter.org">
  <meta name="twitter:image:src" content="http://ipython.org/ipython-doc/dev/_images/ipynb_icon_128x128.png">

  
    <link href="/static/build/notebook.css?v=81e0139371f853f9af20339dc0bcfaa6" rel="stylesheet">
  

  

  
    <script src="https://cdnjs.cloudflare.com/ajax/libs/mathjax/2.7.1/MathJax.js?config=TeX-AMS_HTML" type="text/javascript">
    </script>
    <script type="text/javascript">
      init_mathjax = function() {
        if (window.MathJax) {
          // MathJax loaded
          MathJax.Hub.Config({
            TeX: {
              equationNumbers: {
                autoNumber: "AMS",
                useLabelIds: true
              }
            },
            tex2jax: {
              inlineMath: [ ['$','$'], ["\\(","\\)"] ],
              displayMath: [ ['$$','$$'], ["\\[","\\]"] ],
              processEscapes: true,
              processEnvironments: true
            },
            displayAlign: 'center',
            "HTML-CSS": {
              styles: {'.MathJax_Display': {"margin": 0}},
              linebreaks: { automatic: true }
            }
          });
          MathJax.Hub.Queue(["Typeset", MathJax.Hub]);
        }
      }
      init_mathjax();
    </script>
  

  
    <script>
      (function() {
        function addWidgetsRenderer() {
          var mimeElement = document.querySelector('script[type="application/vnd.jupyter.widget-view+json"]');
          var scriptElement = document.createElement('script');
          var widgetRendererSrc = 'https://unpkg.com/@jupyter-widgets/html-manager@*/dist/embed-amd.js';
          var widgetState;

          try {
            widgetState = mimeElement && JSON.parse(mimeElement.innerHTML);

            if (widgetState && (widgetState.version_major < 2 || !widgetState.version_major)) {
              widgetRendererSrc = 'https://unpkg.com/jupyter-js-widgets@*/dist/embed.js';
            }
          } catch(e) {}

          scriptElement.src = widgetRendererSrc;
          document.body.appendChild(scriptElement);
        }

        document.addEventListener('DOMContentLoaded', addWidgetsRenderer);
      }());
    </script>
  

</head>

<body class="nbviewer">

  <!-- These are loaded at the top of the body so they are available to
       notebook cells when they are loaded below. -->
  <script src="/static/components/jquery/dist/jquery.min.js?v=a09e13ee94d51c524b7e2a728c7d4039"></script>
  <script src="/static/components/requirejs/require.js?v=6da8be361b9ee26c5e721e76c6d4afce"></script>
  <script src="/static/components/moment/min/moment.min.js?v=89f87298ad94aa1e6b92f42eb66da043"></script>
<!-- Navbar
================================================== -->
  <nav id="menubar" class="navbar navbar-default navbar-fixed-top" data-spy="affix">
    <div class="container">
      <div class="navbar-header">
        <button type="button" class="navbar-toggle collapsed" data-toggle="collapse" data-target=".navbar-collapse">
          <span class="sr-only">Toggle navigation</span>
          <i class="fa fa-bars"></i>
        </button>
        <a class="navbar-brand" href="/">
          <img src="/static/img/nav_logo.svg?v=479cefe8d932fb14a67b93911b97d70f" width="159"/>
        </a>
      </div>

      <div class="collapse navbar-collapse">
        <ul class="nav navbar-nav navbar-right">
          <li>
            <a class="active" href="http://jupyter.org">JUPYTER</a>
          </li>
          <li>
    <a href="/faq" title="FAQ" >
      
        <span>FAQ</span>
      
    </a>
  </li>

          
  
    
  
    
      
        <li>
    <a href="/format/script/url/sci2s.ugr.es/sites/default/files/files/Teaching/GraduatesCourses/InteligenciaDeNegocio/Curso18-19/clustering_jerarquico.ipynb" title="View as Code" >
      <span class="fa fa-code fa-2x menu-icon"></span>
      <span class="menu-text">View as Code</span>
    </a>
  </li>
      
    
  

  
    <li>
    <a href="#" title="Python 3 Kernel" >
      <span class="fa fa-server fa-2x menu-icon"></span>
      <span class="menu-text">Python 3 Kernel</span>
    </a>
  </li>
  

  

  

  <li>
    <a href="http://sci2s.ugr.es/sites/default/files/files/Teaching/GraduatesCourses/InteligenciaDeNegocio/Curso18-19/clustering_jerarquico.ipynb" title="Download Notebook" download>
      <span class="fa fa-download fa-2x menu-icon"></span>
      <span class="menu-text">Download Notebook</span>
    </a>
  </li>

        </ul>
      </div><!-- /.navbar-collapse -->
      
      
    </div>
  </nav>

  <div class="container container-main">
    
  
  <div id="notebook">
    <div id="notebook-container">
      
<div class="cell border-box-sizing text_cell rendered"><div class="prompt input_prompt">
</div>
<div class="inner_cell">
<div class="text_cell_render border-box-sizing rendered_html">
<h1 id="Clustering-en-Python:-Parte-II-(Clustering-jer&#225;rquico-y-dendograma)">Clustering en Python: Parte II (Clustering jer&#225;rquico y dendograma)<a class="anchor-link" href="#Clustering-en-Python:-Parte-II-(Clustering-jer&#225;rquico-y-dendograma)">&#182;</a></h1><p>Vamos a ver un ejemplo de cómo podemos aplicar clustering jerárquico y generar un dendograma.</p>
<p>Importamos los módulos que vamos a necesitar:</p>
<ul>
<li>para medir tiempos de ejecución: time</li>
<li>para lectura y manejo de los datos: numpy y pandas</li>
<li>para disponer de implementaciones de distintos algoritmos de clustering: cluster de Scikit-learn</li>
<li>para normalizar el conjunto de datos: preprocessing de Scikit-learn</li>
<li>para las visualizaciones y los dendogramas: matplotlib, seaborn y scipy</li>
</ul>

</div>
</div>
</div>
<div class="cell border-box-sizing code_cell rendered">
<div class="input">
<div class="prompt input_prompt">In&nbsp;[1]:</div>
<div class="inner_cell">
    <div class="input_area">
<div class=" highlight hl-ipython3"><pre><span></span><span class="o">%</span><span class="k">matplotlib</span> inline
</pre></div>

</div>
</div>
</div>

</div>
<div class="cell border-box-sizing code_cell rendered">
<div class="input">
<div class="prompt input_prompt">In&nbsp;[2]:</div>
<div class="inner_cell">
    <div class="input_area">
<div class=" highlight hl-ipython3"><pre><span></span><span class="kn">import</span> <span class="nn">time</span>

<span class="kn">import</span> <span class="nn">pandas</span> <span class="k">as</span> <span class="nn">pd</span>
<span class="kn">import</span> <span class="nn">numpy</span> <span class="k">as</span> <span class="nn">np</span>

<span class="kn">from</span> <span class="nn">sklearn</span> <span class="k">import</span> <span class="n">cluster</span>
<span class="kn">from</span> <span class="nn">sklearn</span> <span class="k">import</span> <span class="n">preprocessing</span>

<span class="kn">import</span> <span class="nn">matplotlib.pyplot</span> <span class="k">as</span> <span class="nn">plt</span>
<span class="kn">import</span> <span class="nn">seaborn</span> <span class="k">as</span> <span class="nn">sns</span>
<span class="kn">from</span> <span class="nn">scipy.cluster</span> <span class="k">import</span> <span class="n">hierarchy</span>
</pre></div>

</div>
</div>
</div>

</div>
<div class="cell border-box-sizing text_cell rendered"><div class="prompt input_prompt">
</div>
<div class="inner_cell">
<div class="text_cell_render border-box-sizing rendered_html">
<p>Creamos la función norm_to_zero_one para aplicar normalización min-max.</p>

</div>
</div>
</div>
<div class="cell border-box-sizing code_cell rendered">
<div class="input">
<div class="prompt input_prompt">In&nbsp;[3]:</div>
<div class="inner_cell">
    <div class="input_area">
<div class=" highlight hl-ipython3"><pre><span></span><span class="k">def</span> <span class="nf">norm_to_zero_one</span><span class="p">(</span><span class="n">df</span><span class="p">):</span>
    <span class="k">return</span> <span class="p">(</span><span class="n">df</span> <span class="o">-</span> <span class="n">df</span><span class="o">.</span><span class="n">min</span><span class="p">())</span> <span class="o">*</span> <span class="mf">1.0</span> <span class="o">/</span> <span class="p">(</span><span class="n">df</span><span class="o">.</span><span class="n">max</span><span class="p">()</span> <span class="o">-</span> <span class="n">df</span><span class="o">.</span><span class="n">min</span><span class="p">())</span>
</pre></div>

</div>
</div>
</div>

</div>
<div class="cell border-box-sizing text_cell rendered"><div class="prompt input_prompt">
</div>
<div class="inner_cell">
<div class="text_cell_render border-box-sizing rendered_html">
<h3 id="Datos">Datos<a class="anchor-link" href="#Datos">&#182;</a></h3><p>Trabajamos sobre el conjunto de datos facilitado para la segunda práctica de la asignatura que contiene información recogida por el INE.</p>

</div>
</div>
</div>
<div class="cell border-box-sizing code_cell rendered">
<div class="input">
<div class="prompt input_prompt">In&nbsp;[4]:</div>
<div class="inner_cell">
    <div class="input_area">
<div class=" highlight hl-ipython3"><pre><span></span><span class="n">censo</span> <span class="o">=</span> <span class="n">pd</span><span class="o">.</span><span class="n">read_csv</span><span class="p">(</span><span class="s1">&#39;censo_granada.csv&#39;</span><span class="p">)</span>
</pre></div>

</div>
</div>
</div>

</div>
<div class="cell border-box-sizing text_cell rendered"><div class="prompt input_prompt">
</div>
<div class="inner_cell">
<div class="text_cell_render border-box-sizing rendered_html">
<p>Los valores en blanco en realidad son otra categoría que vamos a nombrar con el valor 0.</p>

</div>
</div>
</div>
<div class="cell border-box-sizing code_cell rendered">
<div class="input">
<div class="prompt input_prompt">In&nbsp;[5]:</div>
<div class="inner_cell">
    <div class="input_area">
<div class=" highlight hl-ipython3"><pre><span></span><span class="n">censo</span> <span class="o">=</span> <span class="n">censo</span><span class="o">.</span><span class="n">replace</span><span class="p">(</span><span class="n">np</span><span class="o">.</span><span class="n">NaN</span><span class="p">,</span><span class="mi">0</span><span class="p">)</span>
</pre></div>

</div>
</div>
</div>

</div>
<div class="cell border-box-sizing code_cell rendered">
<div class="input">
<div class="prompt input_prompt">In&nbsp;[6]:</div>
<div class="inner_cell">
    <div class="input_area">
<div class=" highlight hl-ipython3"><pre><span></span><span class="n">censo</span><span class="o">.</span><span class="n">shape</span>
</pre></div>

</div>
</div>
</div>

<div class="output_wrapper">
<div class="output">


<div class="output_area">

<div class="prompt output_prompt">Out[6]:</div>




<div class="output_text output_subarea output_execute_result">
<pre>(83499, 142)</pre>
</div>

</div>

</div>
</div>

</div>
<div class="cell border-box-sizing code_cell rendered">
<div class="input">
<div class="prompt input_prompt">In&nbsp;[7]:</div>
<div class="inner_cell">
    <div class="input_area">
<div class=" highlight hl-ipython3"><pre><span></span><span class="n">censo</span><span class="o">.</span><span class="n">columns</span><span class="o">.</span><span class="n">values</span>
</pre></div>

</div>
</div>
</div>

<div class="output_wrapper">
<div class="output">


<div class="output_area">

<div class="prompt output_prompt">Out[7]:</div>




<div class="output_text output_subarea output_execute_result">
<pre>array([&#39;CPRO&#39;, &#39;CMUN&#39;, &#39;IDHUECO&#39;, &#39;NORDEN&#39;, &#39;FACTOR&#39;, &#39;MNAC&#39;, &#39;ANAC&#39;,
       &#39;EDAD&#39;, &#39;SEXO&#39;, &#39;NACI&#39;, &#39;CPAISN&#39;, &#39;CPRON&#39;, &#39;CMUNN&#39;, &#39;ANORES&#39;,
       &#39;ANOM&#39;, &#39;ANOC&#39;, &#39;ANOE&#39;, &#39;CLPAIS&#39;, &#39;CLPRO&#39;, &#39;CLMUNP&#39;,
       &#39;RES_ANTERIOR&#39;, &#39;CPAISUNANO&#39;, &#39;CPROUNANO&#39;, &#39;CMUNANO&#39;, &#39;RES_UNANO&#39;,
       &#39;CPAISDANO&#39;, &#39;CPRODANO&#39;, &#39;CMUNDANO&#39;, &#39;RES_DANO&#39;, &#39;SEG_VIV&#39;,
       &#39;SEG_PAIS&#39;, &#39;SEG_PROV&#39;, &#39;SEG_MUN&#39;, &#39;SEG_NOCHES&#39;, &#39;SEG_DISP&#39;,
       &#39;ECIVIL&#39;, &#39;ESCOLAR&#39;, &#39;ESREAL&#39;, &#39;TESTUD&#39;, &#39;TAREA1&#39;, &#39;TAREA2&#39;,
       &#39;TAREA3&#39;, &#39;TAREA4&#39;, &#39;HIJOS&#39;, &#39;NHIJOS&#39;, &#39;RELA&#39;, &#39;JORNADA&#39;, &#39;CNO&#39;,
       &#39;CNAE&#39;, &#39;SITU&#39;, &#39;CSE&#39;, &#39;ESCUR1&#39;, &#39;ESCUR2&#39;, &#39;ESCUR3&#39;, &#39;LTRABA&#39;,
       &#39;PAISTRABA&#39;, &#39;PROTRABA&#39;, &#39;MUNTRABA&#39;, &#39;CODTRABA&#39;, &#39;NVIAJE&#39;,
       &#39;MDESP1&#39;, &#39;MDESP2&#39;, &#39;TDESP&#39;, &#39;TENEN&#39;, &#39;CALE&#39;, &#39;ASEO&#39;, &#39;BADUCH&#39;,
       &#39;INTERNET&#39;, &#39;AGUACOR&#39;, &#39;SUT&#39;, &#39;NHAB&#39;, &#39;PLANTAS&#39;, &#39;PLANTAB&#39;,
       &#39;TIPOEDIF&#39;, &#39;ANOCONS&#39;, &#39;ESTADO&#39;, &#39;ASCENSOR&#39;, &#39;ACCESIB&#39;, &#39;GARAJE&#39;,
       &#39;PLAZAS&#39;, &#39;GAS&#39;, &#39;TELEF&#39;, &#39;ACAL&#39;, &#39;RESID&#39;, &#39;FAMILIA&#39;, &#39;PAD_NORDEN&#39;,
       &#39;MAD_NORDEN&#39;, &#39;CON_NORDEN&#39;, &#39;OPA_NORDEN&#39;, &#39;TIPOPER&#39;, &#39;NUCLEO&#39;,
       &#39;NMIEM&#39;, &#39;NFAM&#39;, &#39;NNUC&#39;, &#39;NGENER&#39;, &#39;ESTHOG&#39;, &#39;TIPOHOG&#39;, &#39;NOCU&#39;,
       &#39;NPARAIN&#39;, &#39;NPFAM&#39;, &#39;NPNUC&#39;, &#39;HM5&#39;, &#39;H0515&#39;, &#39;H1624&#39;, &#39;H2534&#39;,
       &#39;H3564&#39;, &#39;H6584&#39;, &#39;H85M&#39;, &#39;HESPHOG&#39;, &#39;MESPHOG&#39;, &#39;HEXTHOG&#39;,
       &#39;MEXTHOG&#39;, &#39;COMBINAC&#39;, &#39;EDADPAD&#39;, &#39;PAISNACPAD&#39;, &#39;NACIPAD&#39;,
       &#39;ECIVPAD&#39;, &#39;ESTUPAD&#39;, &#39;SITUPAD&#39;, &#39;SITPPAD&#39;, &#39;EDADMAD&#39;,
       &#39;PAISNACMAD&#39;, &#39;NACIMAD&#39;, &#39;ECIVMAD&#39;, &#39;ESTUMAD&#39;, &#39;SITUMAD&#39;,
       &#39;SITPMAD&#39;, &#39;EDADCON&#39;, &#39;NACCON&#39;, &#39;NACICON&#39;, &#39;ECIVCON&#39;, &#39;ESTUCON&#39;,
       &#39;SITUCON&#39;, &#39;SITPCON&#39;, &#39;TIPONUC&#39;, &#39;TAMNUC&#39;, &#39;NHIJO&#39;, &#39;NHIJOC&#39;,
       &#39;FAMNUM&#39;, &#39;TIPOPARECIV&#39;, &#39;TIPOPARSEX&#39;, &#39;DIFEDAD&#39;], dtype=object)</pre>
</div>

</div>

</div>
</div>

</div>
<div class="cell border-box-sizing text_cell rendered"><div class="prompt input_prompt">
</div>
<div class="inner_cell">
<div class="text_cell_render border-box-sizing rendered_html">
<p>Seleccionamos el caso de estudio, en este ejemplo concreto, aquellos casos para los que el campo 'EDADMAD' (grupo quinquenal de la edad de la madre) no estaba vacío.</p>

</div>
</div>
</div>
<div class="cell border-box-sizing code_cell rendered">
<div class="input">
<div class="prompt input_prompt">In&nbsp;[8]:</div>
<div class="inner_cell">
    <div class="input_area">
<div class=" highlight hl-ipython3"><pre><span></span><span class="n">subset</span> <span class="o">=</span> <span class="n">censo</span><span class="o">.</span><span class="n">loc</span><span class="p">[</span><span class="n">censo</span><span class="p">[</span><span class="s1">&#39;EDADMAD&#39;</span><span class="p">]</span><span class="o">&gt;</span><span class="mi">0</span><span class="p">]</span>
</pre></div>

</div>
</div>
</div>

</div>
<div class="cell border-box-sizing text_cell rendered"><div class="prompt input_prompt">
</div>
<div class="inner_cell">
<div class="text_cell_render border-box-sizing rendered_html">
<p>Seleccionamos variables de interés para clustering.</p>

</div>
</div>
</div>
<div class="cell border-box-sizing code_cell rendered">
<div class="input">
<div class="prompt input_prompt">In&nbsp;[9]:</div>
<div class="inner_cell">
    <div class="input_area">
<div class=" highlight hl-ipython3"><pre><span></span><span class="n">usadas</span> <span class="o">=</span> <span class="p">[</span><span class="s1">&#39;EDAD&#39;</span><span class="p">,</span> <span class="s1">&#39;ANORES&#39;</span><span class="p">,</span> <span class="s1">&#39;NPFAM&#39;</span><span class="p">,</span> <span class="s1">&#39;H6584&#39;</span><span class="p">,</span> <span class="s1">&#39;ESREAL&#39;</span><span class="p">]</span>
<span class="n">X</span> <span class="o">=</span> <span class="n">subset</span><span class="p">[</span><span class="n">usadas</span><span class="p">]</span>
</pre></div>

</div>
</div>
</div>

</div>
<div class="cell border-box-sizing text_cell rendered"><div class="prompt input_prompt">
</div>
<div class="inner_cell">
<div class="text_cell_render border-box-sizing rendered_html">
<p>Podemos comprobar las dimensiones (variables e instancias) del subconjunto seleccionado.</p>

</div>
</div>
</div>
<div class="cell border-box-sizing code_cell rendered">
<div class="input">
<div class="prompt input_prompt">In&nbsp;[10]:</div>
<div class="inner_cell">
    <div class="input_area">
<div class=" highlight hl-ipython3"><pre><span></span><span class="n">X</span><span class="o">.</span><span class="n">shape</span>
</pre></div>

</div>
</div>
</div>

<div class="output_wrapper">
<div class="output">


<div class="output_area">

<div class="prompt output_prompt">Out[10]:</div>




<div class="output_text output_subarea output_execute_result">
<pre>(27207, 5)</pre>
</div>

</div>

</div>
</div>

</div>
<div class="cell border-box-sizing text_cell rendered"><div class="prompt input_prompt">
</div>
<div class="inner_cell">
<div class="text_cell_render border-box-sizing rendered_html">
<p>Para sacar el dendrograma en el jerárquico, no podemos tener muchos elementos.
Hacemos un muestreo aleatorio para quedarnos solo con 1000, aunque lo ideal es elegir un caso de estudio que ya dé un tamaño pequeño.</p>

</div>
</div>
</div>
<div class="cell border-box-sizing code_cell rendered">
<div class="input">
<div class="prompt input_prompt">In&nbsp;[11]:</div>
<div class="inner_cell">
    <div class="input_area">
<div class=" highlight hl-ipython3"><pre><span></span><span class="n">X</span> <span class="o">=</span> <span class="n">X</span><span class="o">.</span><span class="n">sample</span><span class="p">(</span><span class="mi">1000</span><span class="p">,</span> <span class="n">random_state</span><span class="o">=</span><span class="mi">123456</span><span class="p">)</span>
</pre></div>

</div>
</div>
</div>

</div>
<div class="cell border-box-sizing text_cell rendered"><div class="prompt input_prompt">
</div>
<div class="inner_cell">
<div class="text_cell_render border-box-sizing rendered_html">
<p>En clustering hay que normalizar para las métricas de distancia. Normalizamos el dataframe aplicando la función 'norm_to_zero_one'.</p>
<ul>
<li>'apply' aplica una función a lo largo de un eje concreto de un dataframe. Por defecto el parámetro 'axis' tiene el valor cero lo que significa que la función se aplica a cada columna del dataframe.</li>
</ul>

</div>
</div>
</div>
<div class="cell border-box-sizing code_cell rendered">
<div class="input">
<div class="prompt input_prompt">In&nbsp;[12]:</div>
<div class="inner_cell">
    <div class="input_area">
<div class=" highlight hl-ipython3"><pre><span></span><span class="n">X_normal</span> <span class="o">=</span> <span class="n">X</span><span class="o">.</span><span class="n">apply</span><span class="p">(</span><span class="n">norm_to_zero_one</span><span class="p">)</span>
</pre></div>

</div>
</div>
</div>

</div>
<div class="cell border-box-sizing text_cell rendered"><div class="prompt input_prompt">
</div>
<div class="inner_cell">
<div class="text_cell_render border-box-sizing rendered_html">
<p>Podemos comprobar las dimensiones del subconjunto seleccionado con el que vamos a trabajar.</p>

</div>
</div>
</div>
<div class="cell border-box-sizing code_cell rendered">
<div class="input">
<div class="prompt input_prompt">In&nbsp;[13]:</div>
<div class="inner_cell">
    <div class="input_area">
<div class=" highlight hl-ipython3"><pre><span></span><span class="n">X_normal</span><span class="o">.</span><span class="n">shape</span>
</pre></div>

</div>
</div>
</div>

<div class="output_wrapper">
<div class="output">


<div class="output_area">

<div class="prompt output_prompt">Out[13]:</div>




<div class="output_text output_subarea output_execute_result">
<pre>(1000, 5)</pre>
</div>

</div>

</div>
</div>

</div>
<div class="cell border-box-sizing code_cell rendered">
<div class="input">
<div class="prompt input_prompt">In&nbsp;[14]:</div>
<div class="inner_cell">
    <div class="input_area">
<div class=" highlight hl-ipython3"><pre><span></span><span class="nb">list</span><span class="p">(</span><span class="n">X_normal</span><span class="p">)</span>
</pre></div>

</div>
</div>
</div>

<div class="output_wrapper">
<div class="output">


<div class="output_area">

<div class="prompt output_prompt">Out[14]:</div>




<div class="output_text output_subarea output_execute_result">
<pre>[&#39;EDAD&#39;, &#39;ANORES&#39;, &#39;NPFAM&#39;, &#39;H6584&#39;, &#39;ESREAL&#39;]</pre>
</div>

</div>

</div>
</div>

</div>
<div class="cell border-box-sizing text_cell rendered"><div class="prompt input_prompt">
</div>
<div class="inner_cell">
<div class="text_cell_render border-box-sizing rendered_html">
<h3 id="Clustering-Jer&#225;rquico">Clustering Jer&#225;rquico<a class="anchor-link" href="#Clustering-Jer&#225;rquico">&#182;</a></h3><p>El clustering jerárquico engloba una familia de algoritmos que construyen clusters anidadas fusionándolos o dividiéndolos sucesivamente. Esta jerarquía de clusters se representa como un árbol (o dendrograma). La raíz del árbol es el cluster único que recoge todas las muestras, siendo las hojas del árbol los cluster que incluyen un solo dato o muestra.</p>

</div>
</div>
</div>
<div class="cell border-box-sizing text_cell rendered"><div class="prompt input_prompt">
</div>
<div class="inner_cell">
<div class="text_cell_render border-box-sizing rendered_html">
<p>El objeto 'AgglomerativeClustering' realiza un clustering jerárquico usando un enfoque 'de abajo a arriba': cada dato/muestra comienza en su propio cluster, y los clusters van fusionándose sucesivamente. En cada paso fusiona los dos clusters más cercanos (la definición de cercanos va a depender de la métrica elegida). Las opciones son:</p>
<ul>
<li>Ward: fusionar el par de cluster que genera un agrupamiento con mínima varianza (media de la distancia cuadrática de cada elemento al centroide)</li>
<li>Maximum or complete linkage: minimiza la distancia máxima entre elementos de dos clusters.</li>
<li>Average linkage: minimiza la distancia media entre elementos de dos clusters.</li>
<li>Single linkage: minimiza la distancia mínima entre elementos de dos clusters.</li>
</ul>

</div>
</div>
</div>
<div class="cell border-box-sizing text_cell rendered"><div class="prompt input_prompt">
</div>
<div class="inner_cell">
<div class="text_cell_render border-box-sizing rendered_html">
<p>Vamos a utilizar 'AgglomerativeClustering' con 'Ward' como criterio de enlace y eligiendo quedarnos con 100 clusters (100 ramificaciones del dendograma).</p>

</div>
</div>
</div>
<div class="cell border-box-sizing code_cell rendered">
<div class="input">
<div class="prompt input_prompt">In&nbsp;[15]:</div>
<div class="inner_cell">
    <div class="input_area">
<div class=" highlight hl-ipython3"><pre><span></span><span class="n">ward</span> <span class="o">=</span> <span class="n">cluster</span><span class="o">.</span><span class="n">AgglomerativeClustering</span><span class="p">(</span><span class="n">n_clusters</span><span class="o">=</span><span class="mi">100</span><span class="p">,</span> <span class="n">linkage</span><span class="o">=</span><span class="s1">&#39;ward&#39;</span><span class="p">)</span> <span class="c1"># n_clusters: nº de clusters a encontrar</span>
<span class="n">name</span><span class="p">,</span> <span class="n">algorithm</span> <span class="o">=</span> <span class="p">(</span><span class="s1">&#39;Ward&#39;</span><span class="p">,</span> <span class="n">ward</span><span class="p">)</span>
</pre></div>

</div>
</div>
</div>

</div>
<div class="cell border-box-sizing text_cell rendered"><div class="prompt input_prompt">
</div>
<div class="inner_cell">
<div class="text_cell_render border-box-sizing rendered_html">
<p>Aplicamos el algoritmo de clustering jerárquico sobre nuestros datos (registrando el tiempo de ejecución).</p>

</div>
</div>
</div>
<div class="cell border-box-sizing code_cell rendered">
<div class="input">
<div class="prompt input_prompt">In&nbsp;[16]:</div>
<div class="inner_cell">
    <div class="input_area">
<div class=" highlight hl-ipython3"><pre><span></span><span class="n">cluster_predict</span> <span class="o">=</span> <span class="p">{}</span>
<span class="n">k</span> <span class="o">=</span> <span class="p">{}</span>

<span class="nb">print</span><span class="p">(</span><span class="n">name</span><span class="p">,</span><span class="n">end</span><span class="o">=</span><span class="s1">&#39;&#39;</span><span class="p">)</span>
<span class="n">t</span> <span class="o">=</span> <span class="n">time</span><span class="o">.</span><span class="n">time</span><span class="p">()</span>
<span class="n">cluster_predict</span><span class="p">[</span><span class="n">name</span><span class="p">]</span> <span class="o">=</span> <span class="n">algorithm</span><span class="o">.</span><span class="n">fit_predict</span><span class="p">(</span><span class="n">X_normal</span><span class="p">)</span> 
<span class="n">tiempo</span> <span class="o">=</span> <span class="n">time</span><span class="o">.</span><span class="n">time</span><span class="p">()</span> <span class="o">-</span> <span class="n">t</span>
<span class="n">k</span><span class="p">[</span><span class="n">name</span><span class="p">]</span> <span class="o">=</span> <span class="nb">len</span><span class="p">(</span><span class="nb">set</span><span class="p">(</span><span class="n">cluster_predict</span><span class="p">[</span><span class="n">name</span><span class="p">]))</span>
<span class="nb">print</span><span class="p">(</span><span class="s2">&quot;: k: </span><span class="si">{:3.0f}</span><span class="s2">, &quot;</span><span class="o">.</span><span class="n">format</span><span class="p">(</span><span class="n">k</span><span class="p">[</span><span class="n">name</span><span class="p">]),</span><span class="n">end</span><span class="o">=</span><span class="s1">&#39;&#39;</span><span class="p">)</span>
<span class="nb">print</span><span class="p">(</span><span class="s2">&quot;</span><span class="si">{:6.2f}</span><span class="s2"> segundos&quot;</span><span class="o">.</span><span class="n">format</span><span class="p">(</span><span class="n">tiempo</span><span class="p">))</span>
</pre></div>

</div>
</div>
</div>

<div class="output_wrapper">
<div class="output">


<div class="output_area">

<div class="prompt"></div>


<div class="output_subarea output_stream output_stdout output_text">
<pre>Ward: k: 100,   0.04 segundos
</pre>
</div>
</div>

</div>
</div>

</div>
<div class="cell border-box-sizing code_cell rendered">
<div class="input">
<div class="prompt input_prompt">In&nbsp;[17]:</div>
<div class="inner_cell">
    <div class="input_area">
<div class=" highlight hl-ipython3"><pre><span></span><span class="n">cluster_predict</span><span class="p">[</span><span class="s1">&#39;Ward&#39;</span><span class="p">]</span>
</pre></div>

</div>
</div>
</div>

<div class="output_wrapper">
<div class="output">


<div class="output_area">

<div class="prompt output_prompt">Out[17]:</div>




<div class="output_text output_subarea output_execute_result">
<pre>array([33, 61, 43, 12, 57, 37, 95,  7, 36, 30, 61, 27,  7, 36, 61, 20,  1,
       95, 82, 95, 12, 40, 61, 37, 40, 35, 98, 35, 33, 37, 20, 16, 10,  7,
       24,  2, 33,  7, 32, 95, 37,  2, 37,  1,  0, 85, 85, 37, 28, 37, 71,
       37, 87, 60, 44, 17, 18, 19,  7, 73, 36, 41, 33, 48,  0, 36, 43, 14,
       75, 28, 33, 16, 30, 65, 21,  1, 36,  8, 83, 23, 33, 30, 42, 98, 55,
       80, 28,  3, 33, 94, 75, 36,  7,  7, 92, 70, 45, 39, 16, 75,  1, 40,
       52, 21, 10, 17, 40, 23, 36, 12, 37, 12, 37, 28, 21,  2, 40, 40, 36,
       13,  7, 33, 95,  7, 33, 59, 28, 64, 28, 40, 51, 56, 12, 33, 37, 28,
       85, 61, 33, 30, 17, 28, 92, 33, 33, 43,  0, 37, 28, 52,  1, 95, 85,
       18, 24, 37, 23,  1,  0, 70, 10, 95, 43, 20, 92, 61, 15,  7, 49, 26,
        4, 61, 44, 24, 12, 61, 46, 43, 92, 28, 91,  6, 59, 64, 10, 62, 33,
       95, 33, 30,  7, 10, 17, 10, 11, 16,  1, 96, 10,  7, 35, 61,  7, 61,
       90, 21, 90, 95, 36, 36, 33,  1,  7, 42, 28, 11,  7, 22, 37, 37, 95,
       37, 17, 96, 87, 92, 68, 35, 40, 96, 36, 28, 33,  1, 61, 42, 39, 65,
        4, 37, 61, 37, 75, 34, 73, 28, 40, 61, 64, 22, 95, 55, 33, 37, 23,
        9, 61, 36, 58,  1, 18, 36, 12, 99,  7,  9,  7, 28, 46, 81, 35, 52,
        1, 30, 17, 87, 22, 24, 36, 30, 17, 24, 33,  1, 60, 39, 10, 22, 10,
       75, 37, 35, 37, 17, 44, 95, 92, 33, 28, 41,  7, 37, 62, 22,  9, 36,
        9, 18, 57, 64, 28, 61, 28,  1, 92,  8, 88,  1, 35, 75, 79, 95, 62,
       28, 67, 90,  1, 18, 19,  9, 24, 33, 37, 28, 61, 18, 19, 37,  9,  8,
       63, 86, 27, 40, 75, 63, 61, 17, 37, 37, 33, 70,  7, 96,  7, 95, 47,
        1,  9, 51, 82, 41,  0, 61, 39, 61, 33,  0,  4, 70, 77, 21, 91, 24,
       10, 53, 37, 27, 29, 27, 28, 37,  8, 28, 69, 35, 28, 87, 73, 37, 98,
        2, 37,  7, 15, 28,  9, 61, 43, 10,  7, 28, 93, 33, 17, 57, 28, 12,
       36, 35,  1, 33, 40, 51, 21, 24, 28, 52, 94, 40, 36, 50, 41, 94,  9,
       36, 46, 36, 80, 30,  2, 28, 22, 89, 36, 15,  9, 43, 17, 19, 24, 87,
       87, 37,  6, 17, 52, 33, 73,  5, 37, 75, 85, 12, 33, 99,  7,  1, 84,
       43,  4, 24, 42, 35, 96, 87, 36, 18, 43, 71, 37, 45, 37, 95, 90, 40,
       43, 90, 32, 10, 37, 58, 23, 65, 24, 33, 61, 46,  1, 18, 28, 33, 52,
        9, 94, 28, 13, 99, 85, 31, 98, 15, 60, 28, 12, 32,  7, 10, 40, 94,
        9, 33, 95,  1,  7,  0,  1, 28, 92, 20, 17, 37, 92, 32, 54, 36,  8,
       47, 32,  5, 92, 31,  5, 27,  3, 18, 96,  7, 85,  1,  7, 87, 82, 61,
        1, 17, 24, 10, 40, 85, 49, 87, 61, 95, 92, 18,  2, 28, 37, 35, 11,
       65, 90, 79, 92, 58, 30,  7, 95, 58,  9,  0, 10, 37, 26,  1, 24, 33,
       61, 43, 43, 61,  7, 37, 50, 31, 92, 18, 11, 28, 68, 75, 79,  1, 29,
        9, 61, 97, 33, 17,  0,  9, 61, 18, 36, 38, 87,  8, 33, 11, 12, 41,
       37,  7,  1, 12, 33,  4, 61, 33, 53, 48, 43, 28, 49, 10,  7, 75, 94,
        7, 11, 16, 45, 37, 32,  9, 87, 61, 37, 95,  7, 28, 73, 92, 28, 10,
       19,  9, 37, 61, 11,  0, 85, 18, 47, 85,  1,  7, 38, 61, 91, 11,  6,
       51, 46, 18, 28, 85, 28, 19, 61, 33, 33, 19, 10, 18,  7, 57, 38, 38,
       85, 71, 64, 95, 61, 79, 36, 69, 92, 43, 96, 37, 37, 52, 14, 58, 18,
        4, 12, 40, 78, 37,  3, 79, 85, 17,  7, 28, 51, 18, 29,  7, 24, 95,
       81, 40, 33, 91, 10, 80, 24, 33, 19, 73,  7,  1, 18, 37, 36, 25, 84,
       33,  7, 37, 17, 11, 85, 88, 24, 43, 31, 24, 64, 92, 33, 40, 61,  1,
       85, 41, 74, 88, 37,  2, 28, 36, 23, 33, 69, 37, 17, 56,  1,  1, 22,
       43,  1, 85, 95, 10, 80, 12,  7,  2, 18, 18, 90, 35, 32, 79, 36, 39,
       66, 29, 36,  9, 17, 37, 40, 10, 78, 65, 11, 52, 76, 33, 85, 60, 76,
        1, 52,  8, 95,  7, 37, 37, 34, 22, 34, 36, 38, 28, 10, 37, 46, 61,
       37, 65, 99,  7,  1, 95, 25, 61, 37, 64, 61, 12, 41, 58, 61, 26, 33,
       33,  5,  0, 24, 24, 12, 37, 33,  9, 37, 61, 74, 18, 45, 83, 73, 61,
       61, 85, 35, 44, 61, 91, 22, 22, 43, 52,  7,  5, 61, 38,  9, 73, 28,
       47, 27,  7,  7, 95, 10, 21,  7, 79, 95, 57,  2, 61, 37, 75, 33, 79,
       33, 33,  8, 65, 99, 28, 58, 82, 44,  7, 28, 38, 61, 22, 33, 80, 36,
       15,  7, 15, 12,  7, 93, 74, 61, 80, 24, 37, 65, 12, 61, 92, 95, 37,
       73, 18,  8,  1, 37, 13, 48,  1, 24,  7, 37, 10, 84, 10, 47, 86,  7,
       64,  1, 66, 61, 17, 72, 43, 11, 10, 85, 43, 22, 61, 87,  3, 85, 48,
       90, 22, 61, 33, 81, 33,  7, 92, 61, 10,  1, 12, 64,  7, 79, 75, 90,
        1, 13, 40, 10, 37, 37, 65, 28, 37,  1, 90, 16, 87, 99,  7, 58, 79,
       10, 45,  7, 43, 24, 15, 40, 87, 26, 43, 95,  1, 28, 58],
      dtype=int64)</pre>
</div>

</div>

</div>
</div>

</div>
<div class="cell border-box-sizing code_cell rendered">
<div class="input">
<div class="prompt input_prompt">In&nbsp;[18]:</div>
<div class="inner_cell">
    <div class="input_area">
<div class=" highlight hl-ipython3"><pre><span></span><span class="nb">type</span><span class="p">(</span><span class="n">cluster_predict</span><span class="p">)</span>
</pre></div>

</div>
</div>
</div>

<div class="output_wrapper">
<div class="output">


<div class="output_area">

<div class="prompt output_prompt">Out[18]:</div>




<div class="output_text output_subarea output_execute_result">
<pre>dict</pre>
</div>

</div>

</div>
</div>

</div>
<div class="cell border-box-sizing code_cell rendered">
<div class="input">
<div class="prompt input_prompt">In&nbsp;[19]:</div>
<div class="inner_cell">
    <div class="input_area">
<div class=" highlight hl-ipython3"><pre><span></span><span class="nb">type</span><span class="p">(</span><span class="n">cluster_predict</span><span class="p">[</span><span class="s1">&#39;Ward&#39;</span><span class="p">])</span>
</pre></div>

</div>
</div>
</div>

<div class="output_wrapper">
<div class="output">


<div class="output_area">

<div class="prompt output_prompt">Out[19]:</div>




<div class="output_text output_subarea output_execute_result">
<pre>numpy.ndarray</pre>
</div>

</div>

</div>
</div>

</div>
<div class="cell border-box-sizing code_cell rendered">
<div class="input">
<div class="prompt input_prompt">In&nbsp;[20]:</div>
<div class="inner_cell">
    <div class="input_area">
<div class=" highlight hl-ipython3"><pre><span></span><span class="n">cluster_predict</span><span class="p">[</span><span class="s1">&#39;Ward&#39;</span><span class="p">]</span><span class="o">.</span><span class="n">shape</span>
</pre></div>

</div>
</div>
</div>

<div class="output_wrapper">
<div class="output">


<div class="output_area">

<div class="prompt output_prompt">Out[20]:</div>




<div class="output_text output_subarea output_execute_result">
<pre>(1000,)</pre>
</div>

</div>

</div>
</div>

</div>
<div class="cell border-box-sizing text_cell rendered"><div class="prompt input_prompt">
</div>
<div class="inner_cell">
<div class="text_cell_render border-box-sizing rendered_html">
<p>Convertimos la asignación de clusters a un DataFrame con una única columna 'cluster'.</p>

</div>
</div>
</div>
<div class="cell border-box-sizing code_cell rendered">
<div class="input">
<div class="prompt input_prompt">In&nbsp;[21]:</div>
<div class="inner_cell">
    <div class="input_area">
<div class=" highlight hl-ipython3"><pre><span></span><span class="n">clusters</span> <span class="o">=</span> <span class="n">pd</span><span class="o">.</span><span class="n">DataFrame</span><span class="p">(</span><span class="n">cluster_predict</span><span class="p">[</span><span class="s1">&#39;Ward&#39;</span><span class="p">],</span><span class="n">index</span><span class="o">=</span><span class="n">X</span><span class="o">.</span><span class="n">index</span><span class="p">,</span><span class="n">columns</span><span class="o">=</span><span class="p">[</span><span class="s1">&#39;cluster&#39;</span><span class="p">])</span>
</pre></div>

</div>
</div>
</div>

</div>
<div class="cell border-box-sizing text_cell rendered"><div class="prompt input_prompt">
</div>
<div class="inner_cell">
<div class="text_cell_render border-box-sizing rendered_html">
<p>Añadimos la asignación de clusters a las variables de entrada que habíamos seleccionado para el clustering.</p>

</div>
</div>
</div>
<div class="cell border-box-sizing code_cell rendered">
<div class="input">
<div class="prompt input_prompt">In&nbsp;[22]:</div>
<div class="inner_cell">
    <div class="input_area">
<div class=" highlight hl-ipython3"><pre><span></span><span class="n">X_cluster</span> <span class="o">=</span> <span class="n">pd</span><span class="o">.</span><span class="n">concat</span><span class="p">([</span><span class="n">X</span><span class="p">,</span> <span class="n">clusters</span><span class="p">],</span> <span class="n">axis</span><span class="o">=</span><span class="mi">1</span><span class="p">)</span>
</pre></div>

</div>
</div>
</div>

</div>
<div class="cell border-box-sizing code_cell rendered">
<div class="input">
<div class="prompt input_prompt">In&nbsp;[23]:</div>
<div class="inner_cell">
    <div class="input_area">
<div class=" highlight hl-ipython3"><pre><span></span><span class="nb">print</span><span class="p">(</span><span class="nb">list</span><span class="p">(</span><span class="n">X_cluster</span><span class="p">))</span>
<span class="nb">print</span><span class="p">(</span><span class="n">X_cluster</span><span class="o">.</span><span class="n">shape</span><span class="p">)</span>
</pre></div>

</div>
</div>
</div>

<div class="output_wrapper">
<div class="output">


<div class="output_area">

<div class="prompt"></div>


<div class="output_subarea output_stream output_stdout output_text">
<pre>[&#39;EDAD&#39;, &#39;ANORES&#39;, &#39;NPFAM&#39;, &#39;H6584&#39;, &#39;ESREAL&#39;, &#39;cluster&#39;]
(1000, 6)
</pre>
</div>
</div>

</div>
</div>

</div>
<div class="cell border-box-sizing text_cell rendered"><div class="prompt input_prompt">
</div>
<div class="inner_cell">
<div class="text_cell_render border-box-sizing rendered_html">
<p>Filtramos outliers quitando aquellos elementos que el algoritmo ha agrupado en clusters muy pequeños:</p>
<ul>
<li>usamos 'groupby' para generar grupos de instancias según el valor de la columna 'cluster', es decir, según el cluster asignado</li>
<li>'transform' devuelve un objeto que está indexado igual (mismo tamaño) que el objeto que está siendo agrupado (en este caso 'X_cluster')</li>
</ul>
<p><a href="https://pandas.pydata.org/pandas-docs/stable/groupby.html">https://pandas.pydata.org/pandas-docs/stable/groupby.html</a></p>

</div>
</div>
</div>
<div class="cell border-box-sizing code_cell rendered">
<div class="input">
<div class="prompt input_prompt">In&nbsp;[24]:</div>
<div class="inner_cell">
    <div class="input_area">
<div class=" highlight hl-ipython3"><pre><span></span><span class="n">min_size</span> <span class="o">=</span> <span class="mi">3</span>
<span class="c1"># Agrupamos las instancias de &#39;X_cluster&#39; por el cluster asignado </span>
<span class="n">X_filtrado</span> <span class="o">=</span> <span class="n">X_cluster</span><span class="p">[</span><span class="n">X_cluster</span><span class="o">.</span><span class="n">groupby</span><span class="p">(</span><span class="s1">&#39;cluster&#39;</span><span class="p">)</span><span class="o">.</span><span class="n">cluster</span><span class="o">.</span><span class="n">transform</span><span class="p">(</span><span class="nb">len</span><span class="p">)</span> <span class="o">&gt;</span> <span class="n">min_size</span><span class="p">]</span>
</pre></div>

</div>
</div>
</div>

</div>
<div class="cell border-box-sizing text_cell rendered"><div class="prompt input_prompt">
</div>
<div class="inner_cell">
<div class="text_cell_render border-box-sizing rendered_html">
<p>Para entender un poco mejor lo que está pasando en esa última línea de código, podemos ver los grupos de instancias generados por 'groupby'.</p>

</div>
</div>
</div>
<div class="cell border-box-sizing code_cell rendered">
<div class="input">
<div class="prompt input_prompt">In&nbsp;[25]:</div>
<div class="inner_cell">
    <div class="input_area">
<div class=" highlight hl-ipython3"><pre><span></span><span class="nb">print</span><span class="p">(</span><span class="n">X_cluster</span><span class="o">.</span><span class="n">groupby</span><span class="p">(</span><span class="s1">&#39;cluster&#39;</span><span class="p">)</span><span class="o">.</span><span class="n">groups</span><span class="p">)</span>
</pre></div>

</div>
</div>
</div>

<div class="output_wrapper">
<div class="output">


<div class="output_area">

<div class="prompt"></div>


<div class="output_subarea output_stream output_stdout output_text">
<pre>{0: Int64Index([14371, 51412, 78530, 30988, 6415, 28072, 68722, 81878, 53883,
            75314, 16863],
           dtype=&#39;int64&#39;), 1: Int64Index([23582, 38202, 24612, 69235, 73230, 51732, 17212, 13518,  6087,
            32339, 79830, 51447, 79590, 52288,  6574, 76175,  6532, 79431,
            75775, 44872, 17180, 58702, 17628, 31644, 77018, 72129, 24292,
            51720, 59230, 71775, 17021, 17324, 44843, 65705, 17168, 59716,
             9896, 31959, 52503, 35004, 55655],
           dtype=&#39;int64&#39;), 2: Int64Index([68937, 5648, 9145, 27598, 2459, 65033, 82093, 48096, 9132], dtype=&#39;int64&#39;), 3: Int64Index([54269, 12430, 81675, 74907], dtype=&#39;int64&#39;), 4: Int64Index([27192, 33874, 333, 30172, 15180, 7905], dtype=&#39;int64&#39;), 5: Int64Index([962, 36467, 20400, 12544, 4952], dtype=&#39;int64&#39;), 6: Int64Index([9601, 75041, 79817], dtype=&#39;int64&#39;), 7: Int64Index([69729, 67531,  3987, 28672, 39396, 67687, 56101, 80652, 49671,
            49026,  3613,  4410, 32674, 76565, 67236, 24890, 67271, 49603,
            35510, 21687, 56223, 49667, 35540, 39385, 11464, 79947, 56287,
            33547, 67073, 56205, 80944, 55869, 59516, 53776, 56271, 56130,
            60582, 67778, 35583,  3523, 19395, 77105, 47179, 70026, 42161,
            40126,  4260, 76644, 26114, 59111, 53374, 46501, 28739, 49147,
            11574],
           dtype=&#39;int64&#39;), 8: Int64Index([79725, 68441, 14792, 74982, 66355, 61370, 62399, 6209, 63716], dtype=&#39;int64&#39;), 9: Int64Index([58332, 16868, 11202,  9556,  2107, 73379, 55359,  3196, 17808,
            62942, 17235,  3497, 16586,  9900, 51828, 80154, 59449, 40775,
            28068, 78971],
           dtype=&#39;int64&#39;), 10: Int64Index([76943, 76304, 45527, 31596, 11029, 80026, 76305, 46209, 79239,
            18589, 46281, 38069, 63622, 28853, 56241, 39221, 79495, 11001,
            38948, 82332, 73744, 65992, 18105, 76168,  3107, 11119, 67164,
            42850, 59146],
           dtype=&#39;int64&#39;), 11: Int64Index([6119, 32636, 24112, 31535, 44557, 11897, 78730, 21040, 69161,
            35082, 42283],
           dtype=&#39;int64&#39;), 12: Int64Index([58323, 68922, 71463, 24204, 34962, 30423, 44048,  9354, 44282,
            68926, 68757, 58008, 56384, 38395, 71982, 16787, 60839, 47323,
             8776],
           dtype=&#39;int64&#39;), 13: Int64Index([81225, 51217, 65542, 51218], dtype=&#39;int64&#39;), 14: Int64Index([4873, 1422], dtype=&#39;int64&#39;), 15: Int64Index([61859, 25424, 42515, 72976, 79809, 53034, 54744], dtype=&#39;int64&#39;), 16: Int64Index([63486, 22948, 26751, 23133, 82781, 22677], dtype=&#39;int64&#39;), 17: Int64Index([72374,  6118, 64857, 70611, 17328, 62520, 55679,  5802, 48581,
            78849, 22107,  6817, 63614, 41819, 28188, 23478, 31424, 55105,
            44285, 82063],
           dtype=&#39;int64&#39;), 18: Int64Index([37359, 31375, 25192, 20726, 72143, 16506, 74551, 72770,  2889,
             1030, 10143, 17752, 75598, 48137, 58923, 16289,  6113, 62753,
            34527, 31601,  2550, 66084],
           dtype=&#39;int64&#39;), 19: Int64Index([32399, 55453, 23977, 78214, 69019, 65186, 44590, 12053], dtype=&#39;int64&#39;), 20: Int64Index([7794, 68599, 68643, 8336], dtype=&#39;int64&#39;), 21: Int64Index([12774, 21881, 19753, 83179, 54378, 33951, 7103], dtype=&#39;int64&#39;), 22: Int64Index([35522, 63137, 42624, 14398, 28077, 55441, 14107, 14035, 76887,
            55515, 21400, 76847, 75997],
           dtype=&#39;int64&#39;), 23: Int64Index([20137, 8318, 15183, 9737, 493, 32216], dtype=&#39;int64&#39;), 24: Int64Index([ 9358,  3274, 48337, 51704, 38942, 48908, 16667, 20967, 46106,
            62724, 10929, 25396, 79407, 69280, 16634, 45182, 34996,  2380,
            52460, 23903,  9453, 83443],
           dtype=&#39;int64&#39;), 25: Int64Index([51279, 12122], dtype=&#39;int64&#39;), 26: Int64Index([12095, 54146, 71426, 74644], dtype=&#39;int64&#39;), 27: Int64Index([64853, 24239, 41731, 80736, 20804, 27684], dtype=&#39;int64&#39;), 28: Int64Index([66969,  3175, 38505, 55553, 19029, 38822, 56254, 39028, 80040,
            80232, 45269, 17313, 30557, 32479, 32743, 20689, 66737, 25378,
            73015, 82734, 24977, 25415, 76136, 33448, 25842, 27806, 72074,
            10328,  6234, 29116, 42575, 24624, 33443, 24762,  3368, 21149,
            45540, 72819, 46930, 45205, 39027, 82156,  6839, 17544, 31045,
            17818],
           dtype=&#39;int64&#39;), 29: Int64Index([57281, 56069, 9604, 14961], dtype=&#39;int64&#39;), 30: Int64Index([51796, 58488, 64943, 45651, 32939, 46343, 58839, 24730, 22175], dtype=&#39;int64&#39;), 31: Int64Index([53849, 17734, 61263, 68451], dtype=&#39;int64&#39;), 32: Int64Index([54529, 64377, 47604, 75183, 61739, 50796, 81787], dtype=&#39;int64&#39;), 33: Int64Index([59950, 21488, 82738, 28442, 79911,  6461, 59433, 59771, 10757,
             6330, 24679, 39586, 10057, 24418, 52016, 59612, 24097, 42354,
            10376, 25363, 65489, 79085, 82225, 45842, 79063, 66902, 13417,
            69633,  3835, 66781, 52631, 10729, 17560, 65493, 49489, 49091,
            10488, 18355, 10717, 45669, 38765, 76124, 28209, 24357,  2984,
            13610, 60057, 28704, 45672, 53194,  2909, 45014],
           dtype=&#39;int64&#39;), 34: Int64Index([289, 17651, 34894], dtype=&#39;int64&#39;), 35: Int64Index([25165, 51622, 58047, 55165,  9398, 79088, 31525, 65389, 44664,
            27966, 54010, 62043, 24261],
           dtype=&#39;int64&#39;), 36: Int64Index([80558, 22293, 27363, 18194, 17300, 25542,  1750, 11601, 32832,
            39792, 39825, 70365, 65710, 54048, 16077, 18343, 39650, 62943,
            39996, 53835,  4851, 49736, 40298, 10668, 70555, 18984,  2860,
            66101, 32258, 42737],
           dtype=&#39;int64&#39;), 37: Int64Index([67528, 43090, 60711, 67159, 25957, 18764, 33058,  4078, 17932,
            67294,  4735, 10298, 21699, 83108, 10684,  6982, 42885, 60396,
            18147, 70499, 46257, 62998, 66699, 82987, 25655, 67834, 67033,
            60221, 46946, 83096, 47107, 83061, 46849, 26084, 59686, 35739,
            80080, 46878, 74023, 21439, 35545, 39336, 17978, 19158, 67032,
            14495, 80332, 53364, 53576, 53392, 18608, 70095, 55932, 70200,
            53356, 70147, 46256, 56195, 26062, 63370, 19537, 18391, 33033,
            11170, 60438, 60274],
           dtype=&#39;int64&#39;), 38: Int64Index([24464, 10047, 85, 22189, 39117, 2012, 62412], dtype=&#39;int64&#39;), 39: Int64Index([47834, 19975, 47446, 5339, 34263], dtype=&#39;int64&#39;), 40: Int64Index([35135, 66369,  5705, 26525, 58868, 64596, 51617, 32065, 12084,
            69090, 16085, 65314, 64612, 58434, 44385,  5753, 51833, 72904,
            77158, 42336, 33680],
           dtype=&#39;int64&#39;), 41: Int64Index([56609, 38141, 73536, 62176, 62531, 66123, 11143], dtype=&#39;int64&#39;), 42: Int64Index([33922, 5404, 52561, 12225], dtype=&#39;int64&#39;), 43: Int64Index([35390, 52334, 76568, 69340,  4730, 35459, 56404, 41821, 22299,
            28537, 63221, 39375, 53046, 59659, 46697, 35150,  7656, 42381,
            13623, 78822, 76530],
           dtype=&#39;int64&#39;), 44: Int64Index([15921, 57596, 81930, 81093, 71627], dtype=&#39;int64&#39;), 45: Int64Index([6210, 50797, 73234, 63345, 27575], dtype=&#39;int64&#39;), 46: Int64Index([49389, 59400, 35604, 53259, 3880, 53701], dtype=&#39;int64&#39;), 47: Int64Index([22251, 74534, 42542, 55921, 80748], dtype=&#39;int64&#39;), 48: Int64Index([30735, 42759, 13041, 72383], dtype=&#39;int64&#39;), 49: Int64Index([61605, 55985, 82967], dtype=&#39;int64&#39;), 50: Int64Index([75962, 3074], dtype=&#39;int64&#39;), 51: Int64Index([42767, 59009, 12276, 77760, 4996], dtype=&#39;int64&#39;), 52: Int64Index([37671, 73344, 82239, 82036, 78873, 78696, 17259, 1835, 41904,
            1181],
           dtype=&#39;int64&#39;), 53: Int64Index([81155, 75709], dtype=&#39;int64&#39;), 54: Int64Index([56173], dtype=&#39;int64&#39;), 55: Int64Index([40671, 19423], dtype=&#39;int64&#39;), 56: Int64Index([7812, 33921], dtype=&#39;int64&#39;), 57: Int64Index([18734, 44978, 76555, 74487, 75910], dtype=&#39;int64&#39;), 58: Int64Index([53881, 77048, 69526, 6829, 34949, 21565, 28169, 82204, 25325], dtype=&#39;int64&#39;), 59: Int64Index([14841, 27773], dtype=&#39;int64&#39;), 60: Int64Index([27321, 56955, 57405, 41037], dtype=&#39;int64&#39;), 61: Int64Index([32492, 60359, 18962, 11216, 40017, 39914, 46384, 73693, 69852,
            11227, 14162, 39817, 46455,  7207, 13827, 80563, 69695, 79839,
            32689, 18869,  2882, 35785, 73372, 39726, 17795, 39708, 53333,
            53319, 80414, 80555, 33151, 25799, 45920, 53113, 62870, 32006,
            62737,  3187, 35213, 73856,  4294, 46673, 46250, 49283, 25088,
            33156, 70421, 53177, 83164, 61055, 49064],
           dtype=&#39;int64&#39;), 62: Int64Index([81313, 81172, 1498], dtype=&#39;int64&#39;), 63: Int64Index([76815, 49362], dtype=&#39;int64&#39;), 64: Int64Index([58157, 44153, 30317, 49195, 48399, 34549, 8972, 2608, 23461], dtype=&#39;int64&#39;), 65: Int64Index([40217, 59739, 74210, 48189, 49870, 46810, 32923, 47252, 66089], dtype=&#39;int64&#39;), 66: Int64Index([29459, 64367], dtype=&#39;int64&#39;), 67: Int64Index([47534], dtype=&#39;int64&#39;), 68: Int64Index([6191, 15630], dtype=&#39;int64&#39;), 69: Int64Index([54439, 698, 26918], dtype=&#39;int64&#39;), 70: Int64Index([51659, 48317, 79428, 82654], dtype=&#39;int64&#39;), 71: Int64Index([81345, 12191, 74791], dtype=&#39;int64&#39;), 72: Int64Index([43751], dtype=&#39;int64&#39;), 73: Int64Index([69220, 9053, 79055, 28213, 78891, 51261, 24391, 1196, 75485], dtype=&#39;int64&#39;), 74: Int64Index([47595, 5213, 19645], dtype=&#39;int64&#39;), 75: Int64Index([32222, 66641, 17609, 69310, 76208, 24703, 54021, 31516, 46320,
            69118,  5692, 28646],
           dtype=&#39;int64&#39;), 76: Int64Index([12579, 12113], dtype=&#39;int64&#39;), 77: Int64Index([40676], dtype=&#39;int64&#39;), 78: Int64Index([12338, 27144], dtype=&#39;int64&#39;), 79: Int64Index([37934, 23557, 28101, 37981, 2939, 2271, 2018, 48736, 2536, 72392], dtype=&#39;int64&#39;), 80: Int64Index([44384, 43074, 29262, 69229, 13431, 16672], dtype=&#39;int64&#39;), 81: Int64Index([12208, 12771, 47723], dtype=&#39;int64&#39;), 82: Int64Index([78321, 65249, 4812, 82042], dtype=&#39;int64&#39;), 83: Int64Index([47471, 75562], dtype=&#39;int64&#39;), 84: Int64Index([20899, 57310, 54689], dtype=&#39;int64&#39;), 85: Int64Index([42071, 51844, 23986, 75673, 45638, 62253, 65886, 31565, 34880,
             2279, 75848, 48600, 82558, 24905, 51871, 78815, 17657,  6219,
            71843,  2693],
           dtype=&#39;int64&#39;), 86: Int64Index([27412, 48697], dtype=&#39;int64&#39;), 87: Int64Index([21047, 63646, 48801, 82269, 78112, 55785, 42416, 42297, 49032,
            25749, 59568, 20872, 28328, 40139],
           dtype=&#39;int64&#39;), 88: Int64Index([52317, 74619, 81129], dtype=&#39;int64&#39;), 89: Int64Index([40188], dtype=&#39;int64&#39;), 90: Int64Index([82312, 28250, 24353, 15876, 78726, 64795, 44738, 65554, 58216,
            37720],
           dtype=&#39;int64&#39;), 91: Int64Index([50935, 5342, 29725, 56786, 75994], dtype=&#39;int64&#39;), 92: Int64Index([ 6565, 28181, 52690,  5921, 73348, 66220, 73003, 69546, 78262,
            23764, 44917, 16542, 73325, 78594, 21451, 58278,  6208, 44545],
           dtype=&#39;int64&#39;), 93: Int64Index([78258, 37216], dtype=&#39;int64&#39;), 94: Int64Index([45343, 36162, 16812, 47243, 63560, 46238], dtype=&#39;int64&#39;), 95: Int64Index([28466, 52461, 13977, 18092, 25242, 46915, 25482, 59853, 32727,
            82719, 32487, 73141, 30786, 80115, 66876, 42052, 27647, 18659,
            48958, 66418, 26601, 49003, 25113, 17992, 66852, 80224, 14161,
             7173],
           dtype=&#39;int64&#39;), 96: Int64Index([2924, 38067, 38068, 72622, 73389, 23933, 65091], dtype=&#39;int64&#39;), 97: Int64Index([47469], dtype=&#39;int64&#39;), 98: Int64Index([71607, 81981, 65513, 68810], dtype=&#39;int64&#39;), 99: Int64Index([8201, 41086, 50497, 478, 318, 54482], dtype=&#39;int64&#39;)}
</pre>
</div>
</div>

</div>
</div>

</div>
<div class="cell border-box-sizing text_cell rendered"><div class="prompt input_prompt">
</div>
<div class="inner_cell">
<div class="text_cell_render border-box-sizing rendered_html">
<p>Lo que queremos es saber la longitud (el número de instancias) de cada uno de los grupos. Si llamamos a la función 'len' con la salida de groupby como argumento ...</p>

</div>
</div>
</div>
<div class="cell border-box-sizing code_cell rendered">
<div class="input">
<div class="prompt input_prompt">In&nbsp;[26]:</div>
<div class="inner_cell">
    <div class="input_area">
<div class=" highlight hl-ipython3"><pre><span></span><span class="nb">print</span><span class="p">(</span><span class="nb">len</span><span class="p">(</span><span class="n">X_cluster</span><span class="o">.</span><span class="n">groupby</span><span class="p">(</span><span class="s1">&#39;cluster&#39;</span><span class="p">)))</span>
</pre></div>

</div>
</div>
</div>

<div class="output_wrapper">
<div class="output">


<div class="output_area">

<div class="prompt"></div>


<div class="output_subarea output_stream output_stdout output_text">
<pre>100
</pre>
</div>
</div>

</div>
</div>

</div>
<div class="cell border-box-sizing text_cell rendered"><div class="prompt input_prompt">
</div>
<div class="inner_cell">
<div class="text_cell_render border-box-sizing rendered_html">
<p>Usando 'transform' 'len' nos devuelve para cada instancia de 'X_cluster' la longitud (nº de instancias) del grupo en el que se ha incluido a esa instancia.</p>

</div>
</div>
</div>
<div class="cell border-box-sizing code_cell rendered">
<div class="input">
<div class="prompt input_prompt">In&nbsp;[27]:</div>
<div class="inner_cell">
    <div class="input_area">
<div class=" highlight hl-ipython3"><pre><span></span><span class="nb">print</span><span class="p">(</span><span class="n">X_cluster</span><span class="o">.</span><span class="n">groupby</span><span class="p">(</span><span class="s1">&#39;cluster&#39;</span><span class="p">)</span><span class="o">.</span><span class="n">cluster</span><span class="o">.</span><span class="n">transform</span><span class="p">(</span><span class="nb">len</span><span class="p">))</span>
</pre></div>

</div>
</div>
</div>

<div class="output_wrapper">
<div class="output">


<div class="output_area">

<div class="prompt"></div>


<div class="output_subarea output_stream output_stdout output_text">
<pre>59950    52
32492    51
35390    21
58323    19
18734     5
67528    66
28466    28
69729    55
80558    30
51796     9
60359    51
64853     6
67531    55
22293    30
18962    51
7794      4
23582    41
52461    28
78321     4
13977    28
68922    19
35135    21
11216    51
43090    66
66369    21
25165    13
71607     4
51622    13
21488    52
60711    66
         ..
51218     4
42336    21
42850    29
11170    66
60438    66
66089     9
31045    46
60274    66
35004    41
37720    10
22677     6
28328    14
54482     6
49147    55
82204     9
72392    10
59146    29
27575     5
11574    55
78822    21
83443    22
54744     7
33680    21
40139    14
74644     4
76530    21
7173     28
55655    41
17818    46
25325     9
Name: cluster, Length: 1000, dtype: int64
</pre>
</div>
</div>

</div>
</div>

</div>
<div class="cell border-box-sizing text_cell rendered"><div class="prompt input_prompt">
</div>
<div class="inner_cell">
<div class="text_cell_render border-box-sizing rendered_html">
<p>Comprobamos cuántos clusters quedan después de haber eliminado aquellos que no llegaban al tamaño mínimo.</p>

</div>
</div>
</div>
<div class="cell border-box-sizing code_cell rendered">
<div class="input">
<div class="prompt input_prompt">In&nbsp;[28]:</div>
<div class="inner_cell">
    <div class="input_area">
<div class=" highlight hl-ipython3"><pre><span></span><span class="n">k_filtrado</span> <span class="o">=</span> <span class="nb">len</span><span class="p">(</span><span class="nb">set</span><span class="p">(</span><span class="n">X_filtrado</span><span class="p">[</span><span class="s1">&#39;cluster&#39;</span><span class="p">]))</span>
<span class="nb">print</span><span class="p">(</span><span class="s2">&quot;De los </span><span class="si">{:.0f}</span><span class="s2"> clusters hay </span><span class="si">{:.0f}</span><span class="s2"> con más de </span><span class="si">{:.0f}</span><span class="s2"> elementos. Del total de </span><span class="si">{:.0f}</span><span class="s2"> elementos, se seleccionan </span><span class="si">{:.0f}</span><span class="s2">&quot;</span><span class="o">.</span><span class="n">format</span><span class="p">(</span><span class="n">k</span><span class="p">[</span><span class="s1">&#39;Ward&#39;</span><span class="p">],</span><span class="n">k_filtrado</span><span class="p">,</span><span class="n">min_size</span><span class="p">,</span><span class="nb">len</span><span class="p">(</span><span class="n">X</span><span class="p">),</span><span class="nb">len</span><span class="p">(</span><span class="n">X_filtrado</span><span class="p">)))</span>
</pre></div>

</div>
</div>
</div>

<div class="output_wrapper">
<div class="output">


<div class="output_area">

<div class="prompt"></div>


<div class="output_subarea output_stream output_stdout output_text">
<pre>De los 100 clusters hay 69 con más de 3 elementos. Del total de 1000 elementos, se seleccionan 934
</pre>
</div>
</div>

</div>
</div>

</div>
<div class="cell border-box-sizing text_cell rendered"><div class="prompt input_prompt">
</div>
<div class="inner_cell">
<div class="text_cell_render border-box-sizing rendered_html">
<p>Eliminamos la columna con la asignación de cluster.</p>
<ul>
<li>drop permite eliminar una fila o columna de un DataFrame</li>
</ul>

</div>
</div>
</div>
<div class="cell border-box-sizing code_cell rendered">
<div class="input">
<div class="prompt input_prompt">In&nbsp;[29]:</div>
<div class="inner_cell">
    <div class="input_area">
<div class=" highlight hl-ipython3"><pre><span></span><span class="n">X_filtrado</span> <span class="o">=</span> <span class="n">X_filtrado</span><span class="o">.</span><span class="n">drop</span><span class="p">(</span><span class="s1">&#39;cluster&#39;</span><span class="p">,</span> <span class="n">axis</span><span class="o">=</span><span class="mi">1</span><span class="p">)</span> <span class="c1"># axis=1 para indicar que lo que queremos eliminar es una columna y no una fila</span>
<span class="nb">print</span><span class="p">(</span><span class="nb">list</span><span class="p">(</span><span class="n">X_filtrado</span><span class="p">))</span>
</pre></div>

</div>
</div>
</div>

<div class="output_wrapper">
<div class="output">


<div class="output_area">

<div class="prompt"></div>


<div class="output_subarea output_stream output_stdout output_text">
<pre>[&#39;EDAD&#39;, &#39;ANORES&#39;, &#39;NPFAM&#39;, &#39;H6584&#39;, &#39;ESREAL&#39;]
</pre>
</div>
</div>

</div>
</div>

</div>
<div class="cell border-box-sizing text_cell rendered"><div class="prompt input_prompt">
</div>
<div class="inner_cell">
<div class="text_cell_render border-box-sizing rendered_html">
<p>Normalizamos el conjunto filtrado. Volvemos a normalizar porque al eliminar outliers puede que los valores mínimos/máximos de algunas variables hayan cambiado.</p>

</div>
</div>
</div>
<div class="cell border-box-sizing code_cell rendered">
<div class="input">
<div class="prompt input_prompt">In&nbsp;[30]:</div>
<div class="inner_cell">
    <div class="input_area">
<div class=" highlight hl-ipython3"><pre><span></span><span class="n">X_filtrado_normal</span> <span class="o">=</span> <span class="n">X_filtrado</span><span class="o">.</span><span class="n">apply</span><span class="p">(</span><span class="n">norm_to_zero_one</span><span class="p">)</span>
</pre></div>

</div>
</div>
</div>

</div>
<div class="cell border-box-sizing text_cell rendered"><div class="prompt input_prompt">
</div>
<div class="inner_cell">
<div class="text_cell_render border-box-sizing rendered_html">
<p>Obtenemos el dendograma usando scipy (que realmente va a volver a ejecutar el clustering jerárquico).</p>

</div>
</div>
</div>
<div class="cell border-box-sizing code_cell rendered">
<div class="input">
<div class="prompt input_prompt">In&nbsp;[31]:</div>
<div class="inner_cell">
    <div class="input_area">
<div class=" highlight hl-ipython3"><pre><span></span><span class="n">linkage_array</span> <span class="o">=</span> <span class="n">hierarchy</span><span class="o">.</span><span class="n">ward</span><span class="p">(</span><span class="n">X_filtrado_normal</span><span class="p">)</span>
<span class="n">plt</span><span class="o">.</span><span class="n">figure</span><span class="p">(</span><span class="mi">1</span><span class="p">)</span>
<span class="n">plt</span><span class="o">.</span><span class="n">clf</span><span class="p">()</span>
<span class="n">h_dict</span> <span class="o">=</span> <span class="n">hierarchy</span><span class="o">.</span><span class="n">dendrogram</span><span class="p">(</span><span class="n">linkage_array</span><span class="p">,</span><span class="n">orientation</span><span class="o">=</span><span class="s1">&#39;left&#39;</span><span class="p">)</span> <span class="c1">#lo ponemos en horizontal para compararlo con el generado por seaborn</span>
</pre></div>

</div>
</div>
</div>

<div class="output_wrapper">
<div class="output">


<div class="output_area">

<div class="prompt"></div>




<div class="output_png output_subarea ">
<img src="data:image/png;base64,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
"
>
</div>

</div>

</div>
</div>

</div>
<div class="cell border-box-sizing text_cell rendered"><div class="prompt input_prompt">
</div>
<div class="inner_cell">
<div class="text_cell_render border-box-sizing rendered_html">
<p>'h_dict' es un diccionario con información para representar el dendograma.</p>

</div>
</div>
</div>
<div class="cell border-box-sizing text_cell rendered"><div class="prompt input_prompt">
</div>
<div class="inner_cell">
<div class="text_cell_render border-box-sizing rendered_html">
<p>Generamos el dendograma usando seaborn (que a su vez usa scipy) para incluir un heatmap.</p>

</div>
</div>
</div>
<div class="cell border-box-sizing code_cell rendered">
<div class="input">
<div class="prompt input_prompt">In&nbsp;[32]:</div>
<div class="inner_cell">
    <div class="input_area">
<div class=" highlight hl-ipython3"><pre><span></span><span class="c1">#Ahora lo saco usando seaborn (que a su vez usa scipy) para incluir un heatmap</span>
<span class="n">sns</span><span class="o">.</span><span class="n">clustermap</span><span class="p">(</span><span class="n">X_filtrado_normal</span><span class="p">,</span> <span class="n">method</span><span class="o">=</span><span class="s1">&#39;ward&#39;</span><span class="p">,</span> <span class="n">col_cluster</span><span class="o">=</span><span class="kc">False</span><span class="p">,</span> <span class="n">figsize</span><span class="o">=</span><span class="p">(</span><span class="mi">20</span><span class="p">,</span><span class="mi">10</span><span class="p">),</span> <span class="n">cmap</span><span class="o">=</span><span class="s2">&quot;YlGnBu&quot;</span><span class="p">,</span> <span class="n">yticklabels</span><span class="o">=</span><span class="kc">False</span><span class="p">)</span>
</pre></div>

</div>
</div>
</div>

<div class="output_wrapper">
<div class="output">


<div class="output_area">

<div class="prompt output_prompt">Out[32]:</div>




<div class="output_text output_subarea output_execute_result">
<pre>&lt;seaborn.matrix.ClusterGrid at 0x1a2de692a20&gt;</pre>
</div>

</div>

<div class="output_area">

<div class="prompt"></div>




<div class="output_png output_subarea ">
<img src="data:image/png;base64,iVBORw0KGgoAAAANSUhEUgAABHEAAAJDCAYAAACMiojdAAAABHNCSVQICAgIfAhkiAAAAAlwSFlzAAALEgAACxIB0t1+/AAAADl0RVh0U29mdHdhcmUAbWF0cGxvdGxpYiB2ZXJzaW9uIDIuMi4zLCBodHRwOi8vbWF0cGxvdGxpYi5vcmcvIxREBQAAIABJREFUeJzs3X2Qndd9H/bf2cUCCxB8A0hKBgn4gpRIMKbDyHoxFSuWbEuVRIdRNU0sOS81XScsk6rJOC8zyKS1N84kRZNJXXXsCcvaipO0iZykkwydoaXYlizHmdCl6kaJJFCOQsEgCZPiG0iC2AUW2NM/9i518ezdxV3cl/OcvZ/PDIfY53nu3a80u8Tii3N+J+WcAwAAAIB2mykdAAAAAIDLU+IAAAAAVECJAwAAAFABJQ4AAABABZQ4AAAAABVQ4gAAAABUYKpLnJTSp1JK30wpfXmD+yml9L+llL6eUvoPKaXvmnRGAAAAgIgpL3Ei4hci4kOb3P9wRLy1+88DEfH3JpAJAAAAYJ2pLnFyzr8RES9t8shHIuIf5lWPRcR1KaVvm0w6AAAAgG+Z6hJnADdHxFM9Hz/dvQYAAAAwUTu28vDuQz+cxxVkHJae+vR/G6vboNY8nHN+eAtvkfpcq+r/AwAAAGB72FKJs2N2flw5xqJb2GyltGl6OiIO9nx8S0ScGioUAAAAwBXYYomze1w52uqRiPhESunTEfHdEfFKzvn3CmcCAAAAptCWSpy5HdurxEkp/ZOIeF9E3JBSejoifjIi5iIics4PRcSjEXFvRHw9Is5GxI+WSQoAAABMuy2WOHvHlaOInPMPX+Z+joj/bkJxAAAAADY01StxAAAAAGqxtZk427DESSl9KCI+GRGzEfFzOedjjfuHIuIfRMR13WeO5pwfnXhQAAAAYKptqcSZ2blrXDmKSCnNRsTPRsQHYvUkqsdTSo/knL/a89j/EBH/NOf891JKvy9W5+R0Jh4WAAAAmGpbKnHyrtlx5SjlXRHx9ZzzkxER3VOoPhIRvSVOjohrur++NhwxDgAAABSwpRIntl+Jc3NEPNXz8dOxepR4r4WI+Ncppf8+Iq6KiPdPJhoAAADAt2xtJc781jqf0lJKD0TEAz2XHs45P9z7SJ+X5cbHPxwRv5Bz/rsppXdHxD9KKd2Vc14ZcVwAAACADW2tldlZ10qcbmHz8CaPPB0RB3s+viXWb5f6sYj4UPf9/l1KaT4iboiIb44wKgAAAMCmpn0mzuMR8daU0uGIeCYiPh4Rf7zxzMmI+IGI+IWU0p0RMR8Rz080JQAAADD1tlbi7K5rO9Xl5JwvpJQ+ERGfjdXjwz+Vc/5KSumnIuKLOedHIuIvRcT/kVL68VjdanV/zrm55QoAAABgrLbWylQ2E2cQOedHY/XY8N5rP9Hz669GxPdMOhcAAABAr2092HgQKaUPRcQnY3Ulzs/lnI/1eeaHYvWUqhwRX8o5N7dcAQAAAIzVVG+nSinNRsTPRsQHYnXI8eMppUe6q2/WnnlrRPzViPienPPLKaWbyqQFAAAAptm0r8R5V0R8Pef8ZERESunTEfGRiPhqzzN/JiJ+Nuf8ckREztmpVAAAAMDETXuJc3NEPNXz8dMR8d2NZ26PiEgp/dtY3XK1kHP+zGTiAQAAAKzaUiszNz8zrhxjkVJ6ICIe6Ln0cM754d5H+rysefLUjoh4a0S8LyJuiYh/k1K6K+d8epRZAQAAADazpRJn585xxRiPbmHz8CaPPB0RB3s+viUiTvV55rGc83JEfCOl9LVYLXUeH2VWAAAAgM1sbSXOzn4LV6r2eES8NaV0OCKeiYiPR0Tz5Kl/GRE/HBG/kFK6IVa3Vz050ZQAAADA1NtSibNr1/YqcXLOF1JKn4iIz8bqvJtP5Zy/klL6qYj4Ys75ke69/yKl9NWIuBgRfyXn/GK51AAAAMA0Sjk3R8Bs7Hv+xW8O/nAL/NuPvmd7tU4AAADA1Jr27VQAAAAAVdhSiXPVXFULcQaSUvpQRHwyVrdT/VzO+dgGz/3RiPhnEfHOnPMXJxgRAAAAYGslzu4dK+PKUURKaTYifjYiPhCrp1A9nlJ6JOf81cZzV0fEn4+I35p8SgAAAIAtljh7ZrfdSpx3RcTXc85PRkSklD4dER+JiK82nvsbEfG3I+IvTzYeAAAAwKotlTh757bXSpyIuDkinur5+OmI+O7eB1JKb4uIgznnf5VSUuIAAAAARWzrlTgppQci4oGeSw/nnB/ufaTPy974H5lSmomIn46I+8cSEAAAAGBA23omTreweXiTR56OiIM9H98SEad6Pr46Iu6KiF9PKUVEvDkiHkkp/RHDjQEAAIBJ2lKJc/X2O53q8Yh4a0rpcEQ8ExEfj4g/vnYz5/xKRNyw9nFK6dcj4i8rcAAAAIBJ29pMnB3bq8TJOV9IKX0iIj4bq0eMfyrn/JWU0k9FxBdzzo+UTQgAAACwakslzlXbbyVO5JwfjYhHG9d+YoNn3zeJTAAAAABNWypxrtl+p1MBAAAAVGHqV+KklD4UEZ+M1e1UP5dzPta4/xcj4k9HxIWIeD4i/puc8+9OPCgAAAAw1bZW4myzmTgppdmI+NmI+ECsnlT1eErpkZzzV3se+/8i4h0557MppT8bEX87Ij42+bQAAADANNvaEeOz44pRzLsi4us55ycjIlJKn46Ij0TEGyVOzvnzPc8/FhF/cqIJAQAAAGKLJc7O2e21Eicibo6Ip3o+fjoivnuT538sIn55rIkAAAAA+thaiTMzrhjjkVJ6ICIe6Ln0cM754d5H+rysb1OVUvqTEfGOiHjv6BICAAAADGZLJc6uylbidAubhzd55OmIONjz8S0Rcar5UErp/RHx1yLivTnncyMNCQAAADCAbb0SZwCPR8RbU0qHI+KZiPh4RPzx3gdSSm+LiP89Ij6Uc/7m5CMCAAAAbLnEqWslzuXknC+klD4REZ+N1SPGP5Vz/kpK6aci4os550ci4u9ExN6I+GcppYiIkznnP1IsNAAAADCVUs6DFzOvnP9MVS3OtTs/1G/mDQAAAEB1trQSZzbtHFeOYlJKH4qIT8bqSpyfyzkfa9zfFRH/MCLeHhEvRsTHcs4nJp0TAAAAmG5bKnFm0q5x5SgipTQbET8bER+I1SHHj6eUHsk5f7XnsR+LiJdzzm9JKX08Iv7niPjY5NMCAAAA02xLJc6Ome1V4kTEuyLi6znnJyMiUkqfjoiPRERvifORiFjo/vqfR8TPpJRS3so+NAAAAIAhTft2qpsj4qmej5+OiO/e6JnuIORXImJ/RLwwkYQAAAAAseUS5/dXNSg4pfRARDzQc+nhnPPDvY/0eVlzhc0gzwAAAACM1ZZKnNp0C5uHN3nk6Yg42PPxLRFxaoNnnk4p7YiIayPipVHmBAAAALicmdIBCns8It6aUjqcUtoZER+PiEcazzwSET/S/fUfjYjPmYcDAAAATNq2XolzOd0ZN5+IiM/G6hHjn8o5fyWl9FMR8cWc8yMR8fMR8Y9SSl+P1RU4Hy+XGAAAAJhWyaISAAAAgPab9u1UAAAAAFVQ4gAAAABUQIkDAAAAUAElDgAAAEAFlDgAAAAAFVDiAAAAAFRAiQMAAABQASUOAAAAQAWUOAAAAAAVUOIAAAAAVECJAwAAAFCBHaUDAJtLKR2NiPmIOJBzfqD33onXfimXSQWj8f77XykdAYZy8McOl44AMPU+f++NpSPACNyeBnlKiQMt01ParOnknO9PKX2m+ewrywN9n0N7/e6LpRPAkJQ4AMDkKHGgfeZzzgtrH6SUjnYLnNubDx6+er55CQAAgG1KiQNb1GelzKh1ej/IOR9LKUX0+X7du+PbxhgDxu+bL/3j0hFgKAfjHaUjAABTRIkDW3fJSplRSykt9CmKDkTEheazp84+Oa4YMBE3fcf3lo4AQ/nG42dKR4ChHX7n3tIRABiQEgfaZykijuSc7494Y+XPqe4/l9i/a/9kk8GIvfTEZ0tHgKFc8477SkcAAKaIEoexmMCWo5I643zz7vapoymlhe6lA7Fa4NzTfHY5nx1nFBi7/Tf//shnFkvHgCu2bokkVOa5n/+FeO7nS6eAIZ3866UTwMQocRiXsW45KqmnXBmbnPOx7udaW4UTEXGy+dxsmht3FBir5dMvlY4AAADVUOLAmIxoNdJ9EfFL3V/f2ry5e/aGId8eynrp1d8pHQGGsi/eVjoCADBFlDiwdUsDrsbprM21uVIppQM9H/5m8/4P/srLw7w9FGewMbU7aCAslbOViu3goeMnSkeAoT145+0DPafEgS1a2+p0OVe67aqxgudQRPyZntuXvOf8TL6STwGt8Z1/4bbSEWAop8+XTgDAl08bMcD0UOLA+Ay6YqdpbZDxZf3fP7DvCt4e2uO62/5u6QgwlH0/8rHSEWAoiwbCAlRFiQNjMuiKncvZbLbO4sUXRvEpoJh91wy2bBQAAFDiQKtsUNisrcz5cDS2U527+MpkgsGYLJ57sXQEGMru0gEAgKmixIGC+pQ2lwxDbhwxvu77dXllrPFg7JQ41O6aL5wsHQGGdLh0AAC2QIkDZc3nnBfWPkgpHW3M0VlbhXMgItYdRXXjvKGwAAAA00KJAy2y0Ryd7oqcdX77xRNjzQPjtv8jHykdAYayfF3fkWUAAGOhxIER2Gz48GV0tvC+606s2rPDEePULS1dLB0BhuK/wgDAJClxYDQu2RY1qOYR5JebkdP05t2G4lC32eNOWKNuK2++qnQEAGCKKHGgXTabkfP2nPN9vQ+/ej5NMBqMwc7Z0gkAAKAaShwoa6mxGqfTe7N3Rk5K6TPNF5+9qMShbis37CkdAYYy53Qqqud0KoCaKHGgoOYg48bKm7WTqSIi3hN9vl/377KdirrNvHC2dAQAAKiGEgdapLHypnc+zpMRcaj5/FOv24pC3S58xw2lI8BQOh/wNQwATI4SB1pqo+PGAQBG5fsefT4+f++NpWMAMCAlDlQipXS0Wew4YpzazZw+VzoCAABUQ4kDLdPnmPE190WE1TkAwMhYhQNQFyUOtM8lx4yvSSl1mteWzTWmcnneb0MAADComdIBgIE9UToAAAAA5fgrUKq3yfajSeqM+xP0G3R88CpLcajb7PEXSkeA4dz3ptIJAIAposRhO+i7/WiSUkpj//z9BhufvZDG/WkBAABoCSUOTMAWVwt1Nnj9keZ1p1NRvZ2zpRMAAEA1lDgwGQOvFupd1dNT/nSiz0ycV89biUPlzl8snQAAAKqhxIF2m885L2y0XWu3lThULp9ZLB0BAACqocSBOixFxK3Ni8srVuIAAABMCyUOtM9Sz8qbTkT/k6kiIp5dnJlQJBiTb99fOgEAAFRDiQMt01vYrJU53dk4t+acHyiVC8bi/IXSCQAAoBpKHKjDfEQ82bw4N2MmDgAAwLRQ4kAl+m2p2r9LiQMAADAtDNSAdlubj9PpbqkCAABgSlmJA6OxtNEx4F2dK3nTtdU33feeb96/sHIl7wotstNvQwAAMCg/PcMIbHR61JrLFDyDWIqII82LjhgHAACYHmMpcbrbPtatGmCqdEoH2E5yzsdSSg83ry8biUPtnE4FUNT3Pfp8fP7eG0vHAGBA41qJM59zXhjTe1OBEaw8Yb11p1OdvWAlDnV76Ykvlo4AQzkYby0dAQCYIrZTQcX27LAUh7otnnsx5nbsLh0DYGpZhQNQFyUOVKC7RfHW5vVlg42p3L5rbi8dAQAAqqHEgZa4zCypTkQ80by4Z3aciQAAAGgTJQ60x4azpLoFz/c0rxtsTO1spQIAgMEpcaAC3dOpjjav33b1m0rEgZFZPPeF0hEAAKAaShyowEYzcWbSXIE0MDrLFxZLRwAAgGoocWAylgY4dr2zyb356HPEOAAAANNDiQMTkHM+drlnekuePkOOOznn+5uvmZvZM4p4UMziuRdLRwAAgGoocaCdLhlynFJaSCkdHaQMAgAAYHtS4kAdliLiSPPiSl4uEAVGx+lUAAAwOCUOVGCj06kWL75QIg6MzE377i4dAQAAqqHEgfboHX7cGeQFF63EAQAAmBpKHGiJ3nk3G5xkNd+8MJcMNqZui0svlY4AAADVUOJAizVOqeo076+ElTjUzUwcAAAYnBIH2u2NU6r6zcQBAABgeihxoJ3W5uN01i70O1783MVXJhgJRu/V158uHQEAAKqhxIEWWitsemfjpJSO9ityoGa7d+0vHQFgqn3fo8/H5++9sXQMAAakxIF26z2x6r6IuKTEOXshTTwQjNLiuRdLRwAAgGoocaDFGidWHWjev3H+zZMNBCOmxKF2/+B7nbDGdmAlDkAtlDhQjyebF1ay06kAgCt3aO8dpSMAsAVKHKjHfPPC7h03lMgBAABAAUocaKHuceLN0ua+iFiYfBoAAADaQIkD7TSfc17ovZBSel+ZKAAAALTBTOkAwMBOlA4AAABAOVbiQD1OlA4Aoza3Y3fpCAAAUA0lDtRjqXlheeVsiRwAAAAUoMSBSuScjzWvzaa5ElEAAAAowEwcAAAAgAoocQAAAAAqoMQBAAAAqICZODBGKaWjETF/BS/tjDgKAAAAlVPiwHjN55wXtvqilNJAr7mYl7f61tAqO2b3lI4AAADVsJ0KKtFd1QMAAMCUshIHWq5nS1ancBQYubkdu0tHAACAaihxGJelQbcEjUBnQp+nlPmc80K//z9XbKcCAACYGkocxiLnfGxSn2uCZVFpS6UDAADby8kzX4tDe+8oHQOAAZmJA5WYZDEGAABA+1iJAxWznYraOZ0KoCyrcADqosSBduqdKdQpmAMAAICWUOJAC/VunVorc1JKR22pAgAAmF5KHKjHfPPCTJorkQMAAIAClDjQfu/prsbpNG+YiUPt5nbsLh0BAACqocSB9tuRc15IKR1t3lgJJQ4AAMC0UOJAj25Rsm7b0hA6I3iPExGOGAcAAJh2Shy41HzOeWFUb9ZzwtQwTmx0Y3nl7AjeHspZPPdi6QgAAFANJQ5Uot/pVHMze0rFAQAAYMKUONB+S90VPfdFxCUlzpnlV4oEglGxEgcAAAanxIGWW1t9k1I60Ly3b9ehyQeCEdoxazUZdTu0947SEQCAKaLEgQp0By6fal4/v2IlDnW75qpbSkcAAIBqKHGghfqckrVuFU5ExEzMTSYQjIntVAAAMDglDhQwwFHmnZzz/X1ec4mvnH55xMlgsq697tbSEQAAoBpKHChj06PMe48m7yl83t58bs+OPI5sMDHPPvd46QgwpB8oHQAAmCJKHGinpZ4i576I+KWI2N186M27VyaZCUbupn13l44AAADVUOJAC62dSBVxyalUi83nnnxtdmKZYBzy7TeVjgBDOXnma6UjwNCcsgZQDyUOtFzO+YGIiJTSLzfv2U5F7dK5i6UjAABANZQ4UI+nSgeAUcvX7CwdAQAAqqHEgfHqnW3TqzPoG2w22BgAYBi2UgHURYkDY9Q726bXBsXORuZzzgsppc4oMkGr2E4FAAADU+JAC/Sstumn0/33E80bc2lciQAAAGgbJQ60w3zOeaHfjbVVO/1W9Tz1+sx4U8GYXbxjX+kIMKTzpQMATL0zy6dKR4Ch7Z27faDnlDjQfksppYcj4lSz6Llmp9OpqFs6vVQ6AgxJmQ5Q2t65A6UjwMQocaCM5sDjzkYP5pyPbbTdam5GiUPdzv/Kb5eOAMP5G+8onQAAmCJKHCiguTWqOei4T2lzICLWrRO9dk6JQ90Wz71YOgIAAFRDiQPtdMmMnG6p89GIWOh96JVlk40BAACmhRIHKtDdUvXR5vU3714pEQdGZv/ht5WOAAAA1VDiQDtsOCOnZ2vVlyacCcYu75otHQEAAKqhxIEWuMyMnA2PH59zKAqVu/DUs6UjwJD2lw4AAEwRJQ60U+/KnE5ERErpMznnD/U+tGNmz4RjwWjt3H1t6QgAAFANJQ60UO/KnJTS0W6hs27JwkpenmQsAAAAClLiQMutFToppV8tnQUAAIBylDhQj6ebF6zEoXYGGwMAwOCUOFCPJ5oX9u06UiIHjMzTT/6T0hFgKI8+9aOlI8BQHryzdAIAtsLZNlCJ5glWAADDeuj4idIRANgCJQ5UoGe4MQAAAFNKiQN1mM85L5QOAQBsLw/e2SkdAYAtUOIAAAAAVMBgY2iJlNLRiJjf4HZnglEAAABoISUOtMeGW6Y2moezeOGFceaBsZvbsbt0BAAAqIYSByqRUno45/xA77WZNFcqDozE8oXF0hEAAKAaShyox63NC3Mze0rkgJGxEgcAAAZnsDHUYSkiri8dAgAAgHKUOFCBnPOxiHitdA4AAADKsZ2K7WBpo8G/V6AzovcZhxOlAwAAAFCOEofqdVepjMQIy6BxONG8sLxytkAMGJ0ds+Y6AQDAoJQ4UI+l5gWnUwEAAEwPM3GgEqNccQQAAEB9lDgAAAAAFbCdCiq2ePGF0hFgKPuufWvpCAAAUA0rcQAAAAAqoMQBAAAAqIDtVLAFKaWjETE/prfvjOl9AQD6euj4iXjwzk7pGAAMSIkDWzOfc14YxxunlMbyvgAAAGwPtlNBBVJKR5U8AAAA002JA3UY2wogAGB62UoFUBclDgAAAEAFzMSBlmoMUe70e2Y2zU0sDwAAAGUpcaC93thCtdE8nJlQ4lC3CxcWS0cAAIBq2E4FleiuzAEAAGBKWYkDdViKiCPNiyuxXCAKAAAAJViJAxXIOR+LiCdK5wAAAKAcJQ5UolvkAAAAMKWUOAAAAAAVUOIAAAAAVMBgY2iPpcZR4p3LvWBH2jO2MDAJi+deLB0BAACqocSBlmjOvGkUOpFSOmouDgAAwPSynQrqMV86AAAAAOUocQAAAAAqoMQBAAAAqICZONByKaWjsbqVqlM4CgAAAAUpcaD95nPOC81Bx7Ad7Jh1whpASQ8dPxEP3tkpHQOAASlxoGIrebl0BAAAACbETByox1LpAADA9mIVDkBdlDjQXkvdLVSdiIic87GiaQAAACjKdipoqbXSZrNZOOdWXplYHhiH184+VToCAABUQ4kDlUgpHW2uxpmbMRSWui1fWCwdAQAAqqHEgQp0jxm/tXn9osHGVG5ux+7SEQAAoBpKHKjDfM75gdIhYNQcMQ4AAINT4kD7LUXEkX43HDFO7azEAQCAwSlxoOVyzsdSSgtm4rAdWYkDAACDU+JAHZYi4o9FxCUlzkzMlUkDI3Lh4tnSEQAAoBpKHKhAdzXOusHGK2E7FQAAwLRQ4kAl+g02Pn76TIkoMDLXHOw77gkAAOhDiQOXWkopLWxyvzOhHOv0m4lz7VwuFQcAAIAJU+JAj2ZJ0nSZgmcsUkpHI2I+Iu6LxkycsxcnnQZGK++aLR0BAACqocSB9pvPOS+klA40b8zNlIgDAABACUocqES/mTh7Zm2nonI7/TYEAACD8tMztFDPFqqI7hyefjNxAAAAmB5KHGin+ZzzQsQlc3jmmw8tr6QJRoLRMxMHoKyHjp+IB+/slI4BwIBM1AAAAACogBIH2m/t2PP7SgcB4FJ/52+8WDoCADBFbKeCllubg5NSel/hKAA0/JX/cX/pCDAUW6kA6mIlDtTjROkAAAAAlKPEgXqcKB0AAACAcmyngoot59IJYDjp3MXSEQAAoBpKHJiAlNLR6HNE+CY6fa4tNS/MOWEcAABgaihxYDLmc84Lgz7cPY3qEmsDjnudtYiByl08dHXpCAAAUA0lDlRsecVSHOqW5/02BAAAg/LTM7Rc71asrazmgRqkpQulI8CQ5koHAACmiBIH2m9LW7EAAADYnhwxDgAAAFABJQ4AAABABZQ4AAAAABUwEwfaaannmPHORg/NzeSJhIFxmTl9rnQEGNLu0gEAgCmixIEWyjkfW/v1WpmTUjraez3CEeMAAADTRIkDFegeM36keX3PDitxqNy5i6UTAABANZQ4UIf5iHiieXF5pUASAAAAilDiQCWaW6kiIvbMlkgCI7TLFzFASQ8dPxEP3tkpHQOAASlxoP2Wos9WqoiIZbupAAAApoYjxqHluitwTnTn4gAAjIxVOAB1sRIH6rDhahyoWZ732xAAAAzKShyowNpqnNI5AAAAKMdfgUI9lpoXnE4FAAAwPazEgUr0O50KAACA6aHEAQAAAKiA7VSwNUsppYUreF1nxDkiIuLb986O421hYmaPv1A6Agxpb+kAAMAUUeLAFlzplqYrLH6a73G0+flX8vKwbwsAAEAlbKeCesyXDgAAAEA5VuJAi6WUjsa3yptOwSgAAAAUpsSBdpvPOS9EjGZLFrRNOnexdAQAAKiGEgfqsdS8MJPmSuQAAACgADNxoBJXOlQZAACA7UGJAwAAAFABJQ4AAABABZQ4AAAAABUw2BhaonGc+JrOZq85d3F5bHlgEvLVO0tHAJhqDx0/EQ/e2SkdA4ABKXGgPd44TnxN77HiKaWjhhsDAABML9upoB7NVToAFPZ3/8JTpSMAAFNEiQMAcIX+0icPlo4AQ7GVCqAuShwAAACACihxAAAAACpgsDG021LPcONOwRwAAAAUpsSBFus9jar3pCoAAACmjxIHKra8kkpHAAAAYEKUOFCP9zQvXFgpEQMAAIASlDgwGUsDbIfqXOb+06OJAu2Rd82WjgAAANVQ4sAE9M622cgAJc8TzQs7nC8HAAAwNZQ4UIlBiiCozTNf+mzpCDCkHy0dAACYIkocqEBK6WhE3JpzfqB0Fhila666pXQEAACohhIHWqpb3Mx3P+xEn+1Ury47nQoAAGBaKHGgveZzzgsRG8/LmdPhAAAATA0lDtRhKSK+p3QIGLXFcy+WjgAAANVQ4kAFcs7HuturLnHNzpUScWBkbtp3d+kIAABQDSUOVGzxgv1U1O3ChcXSEQAAoBpKHKjA2ulUzevLK0oc6rZz97WlIwBMtYeOn4gH7+yUjgHAgJQ40B5LjQHGnZ5fzztenO1oZfl86QgAAFANJQ60RM75WO/Ha4VOdxVOJ6V0tPnM3EyeXEAAYNuxCgegLkocaL/5iDjR/TdsK2nv7tIRAACgGkocqMNSRPyxiFjovWgmDgAAwPRQ4kAFukeMH2le373DdioAAIBpocSyZ01wAAAgAElEQVSB9lobdNzpfvxEuSgwHuncxdIRAACgGkocaKm1IcZrA46bQ40jIp5dnJlwKhit1197tnQEGNJtpQMAAFNEiQMV6J5QdWvzmHGnU1G7uR0GGwMAwKCUOFCH+Yh4snlxzkIcAACAqaHEgfZbiogjOef7mzeWVyYfBkZph5U4AAAwMCUOtFz3ZKqFlNLR5lwcR4xTu7RXiQMAAINS4kAdliLi1tIhYNScTgUAAINT4kAF+p1MFRHxM1/dO+koMFLv+J9+X+kIMJR7D75aOgIMZfehnywdAYb205/90dIRYGgP3nn7QM8pcaDFuqdSzXc/PNA8neqV8yYbU7fbrz1fOgIAAFRDiQOFNYqaps7aQOPuc5f40u+YbEzd/toPLZWOAAAA1VDiwAhdppDZSKffyVNr75dSWoiIeyLigxFxybaq/J9OX0FKaI+dM7OlI8BQHn1qV+kIAFPv7v3LpSPAxChxYLTmc84LW3lBT1HTdCAiTkXEe2L1e/ULzQfy1TuvICK0x/kVq8mo270Hz5WOAEP58dIBYARu3uPnCaaHEgcK22hocc+qnmsi4p0R8Y3mMwffcfV4w8GYffH5s6UjwFB+8RtXlY4AQ7nnoU/EYw/+TOkYMJQf+CPPlo4AQ/tPnxvsOSUO28YVbmUatc4Y3vPfR8Sjsboi5xI7dqQxfDqYnOeWDOembh87/HrpCDC0x0oHgCEtv/dQ6QgwMUoctpMtb2UatQ22RW307OVKp05EPBERt0bE2yPiteYDd++zjJ+6fe6Z3bFv3hJo6vXBmxdLR4Ch/PgH/37pCDASc184WToCXLGtFJFKHChn09KpW/IcyTm/P6X0yxGxu/nMb56YG2M8GL+DNyhwAIDhKHCo3Va+hpU4MFpLW1iN09nsZs75WHfo8a9GxPXRZyXO8oUt54NW+a/fcqZ0BBjKc4tOWAMo7YN/8y2lI8DEKHFghDYaUtzPJqdSRXzrZKqIiKujT4ETEfHqf3xlS/mgbd750Vw6AgxlJWvTqZvTqdgO/tW/Pl86AgztZ9492HNKHChks8KnMS/nm7G6lWr99+v5i2PJBpPy+d8rPYschvPeN/uDAwAwOUocaKG1gqdb5uyODbZT7fn91084GYzWl19eLh0BhvKn3nK4dAQYyj0PfaJ0BBjaYw/+TOkIMLyf/OBAjylxoKABTqg6EBEXIuK7+t38Q7dbiUPd/v1Lu0pHgKE8dPxE6QgwpKtKB4Ch3fKW7y8dASZGiQNlDXQserfseV/z+ldedDoVddujwwEAgIEpceAKDLCCZlCdAT/H26PP9+vNVzuembrtnfM1DAAMZ+WWa0pHgIlR4sCVGWgFzeU0T6dqFDednPP9jbk4l7hup+1U1O25Rb8NAQDDuXjbdaUjwMT46XmCRrh6g/46pQNcgaVGkdPJOd8fcckR5Aci4jf7vfj0+dlx54OxeuqF0glgOPfec650BBjKL37DTByAmihxJmskqzfor7mqpQbNY8Z7ipuIiHsiYm1E+Tci4mTz9T94cHGs+WDc/taTu0tHAAAqd/ide0tHgIlR4jCVRrAqqjOiKJt5rPvPgYi4Nfp8v+7bZZ4IdTv7giPGqdujT5nODQBMjhKHaTXUqqgxrvpZl6tbOJ2K1ZU5ALSIrSgA5X3H9edLR4CJUeLAhAy4+qezyWseaz78K8/4G2DqduQP7CwdAYZy3nx5gOK+8rKfJ5geShyYnMuu/mnMxIlYLXWeiA3Kn8NXXxhVNijic/9prnQEGMr+/al0BICpZyUO00SJA1emearUIDqXe6DfoONYnYdzKFaHHF/yOf/l71rGT93+q7sM56Zub5o3m4y62RLIdnDXdWbsMT2UOHAFmmXLILZa+vRspTrV/Wfddqonv+JoW+r29/7gUukIMJRf/z1L+Knbxw6/rsgBqIgSBwq6zJycA/GtgcYfjNVjxhd6H7ju22xFoW7HT8+WjgBDOfZPc+kIMLTD7yydAIBBKXFgcvptwerknO/v93BPwXMyIv56RLyn+cw115jFQN2efM1vQ9Tt8Dv3lI4AMPW+fNpfbDI9/PQME9JvC1afQca9OrE61PjWiLi93wM3X20WA3U7/oofuqjbNx4/UzoCDOXwO/eWjgBDczoV00SJw3aylWHDnTHmGNhms3V6hhr/Zqyuwln3/fpbn3l1fOFgAv7NT9iKQt1+4g+UTgDD+ZHfKJ0Ahnfy00+XjgDDu3ewx5Q4bBtbGTZ8BSdLjdRlZuFErM7DuTVWv0dvj4irI+K1de/z7VePJR9MyrOLVjFQt3fc8NbSEWBIz5cOAEP78J+9qXQEmBglDpQxn3Ne2Ohmt+SJ+NZg4/f2e27mMydGHgwm6oduKJ0AhnLyzNdKR4Ah7SsdAIAtUOJAC+WcjzUGG/9a9Pt+nXOyD3W763p/eKBu31x8oXQEAGCKKHEgBtreNGqdAZ6ZzzkvNFblXOLiIdupqNvihRdLRwAAKvcnbjtbOgJMjBIHVm26vWnUmjN5NiiR7kvpkiPE1x0xPnty3ZgcqMpzi9eVjgBD2eMnKQBggvzoAe2wrkRKKXV6VuLcGhHXr3vV8sXJpIMxOXLd7aUjwFAeOn6idASAqfelF+dKR4ChvXvA+dxKHCijeRx6p88zT3Sf+XBELEaf06lWDtpORd2eft1QWOr24J13lI4AQ/nFbzidivrdvX+5dASYGCUOFNA8Dr230OmztepL3X+vm4mzsn/3OOLBxOyc9UMXADAcK3HYDqzEgbr0rszp5Jzv77250eDlmTfvGX8yGKOTZ86UjgBDWbpgNRm1c0og9bMSh2mixGFaDbKdaWJ6V+aklI72ZLsnIm6P1WPG15n91H8YfzgYo6fufUvpCDCULz7vb3+p2+fvvbF0BBjav/vm6dIRYGKUOEylzbYzlZZzPtaz8uZkrH6f9v1eTXO+hanb//rla0pHgKH88G2vl44AMPVsp2I7sJ0KWm6jLVJdB7r/vjU2+T4989q6MTlQlWf+vuHc1O3ef3Bt6QgAwBRR4sAWXaZ82Yp1s28an+P9cZnv0T13OBWFup3/3oOlI8BQDu39ttIRAIAposSBrZvPOS8M+yaN2TdNByLiN/tcu0S+ytJR6nb4Nr8NAZT2fY86Zpy6PffsKP5+Fcp68M7BnvPTM6xqDjreTGcUn7A5l6epZ8XPgVg9XvzW5jMzp14bRRQo5uWXV0pHgKGcPON0KrYDJ1RRt++/82LpCDAxShyIyxcqvUY1BHmAbVlr5c3dsXpC1Tpv/vNHRhEFinnh+ZV45m/+QukYcOU++tE4tNfWVuplFQ7bwV3XLTtmnKptZTi3Ege2biurdjaz4UycNd2i57XY4Hv16c+/OIIYUM75X/ntuHqPuTjUS4ED0A5OqGJaKHFgi7ayamczvUXQJqtyemfj3DOKzwttsvMD31U6AgzloeMnSkeAIV1VOgAM7Re/4euY+pmJA+3Xu6Jn3aqcbrFzKlbLmw/2e4Nr3m4PO3U7+w9/p3QEGMq9B28qHQGG4g+/bAcfO/x66QgwMUocKKR3Rc8GJ1W9PSL+31j9Pv1Cv/d4/V/87tjywSSk0gEAgOqZh8M0UeJAC/TbotWzxerJWD2Zat336x/+K+tOHYeqPPrjTvahbj/yG1ZEUrfP33tj6QgwtM5fP1M6AgztxE8O9pwSB1pkg9k4p7r/vrv5/OGrL4w9EwAAAO2gxIEJGuBY8Q1PrEop/Vbz2u7ZPKJkUMazzz1eOgIM5S8evq10BBiSlTjU7/A795aOABOjxIHJms85L2x0c5MTq/rum3rp3Mwos8HE7ZjdUzoCAFC55569WDoCTIwSB9rlkhOrIuKJWC1y+s7E+a3nN1vUA+03t2N36QgAQOXOPrVYOgJMjBIHBjTAVqhBdDa72TyxKlbLm1OxOtz4VPP5b99rEj91+/Kb3lo6AgzlwTs7pSMATL0L//yx0hFgeD/5wYEeU+LA4DbdCjWIPseIr13fqCA6FatbqW6NiNuH+dzQRvnqnaUjwFBOnnHCGnU7tPeO0hEA2AIlDrTDhgVRt+A5FKtFziWcTgVQ1qNP7SodAYby4J2lE8Dwdr3tSOkIMDFKHJispQ1W43SaFxqrc06G71e2o997pXQCGFLfufMATNDM06+WjgAT4w+FMEG9M296pZSO9il33jhuvGc1ziWcTkXtLv6hTukIAEDlVm65pnQEmBglDrRAv3Knp9j5cEQsRsTVzWeeW5wdfzgYo9mTr5WOAENywhpAaVbiME2UONBSa8VOSqkTq0eNv7/5zLU7VyYbCkbswu3Xl44AMNUeOn7CKWsAFVHiQPs9EatDjddNMX7lvO1U1O1tP2D5M3X7xW/47zD1M9wYoB5KHFprk2O3S+lM8pM1/vcfiogPNp+xEofafeNMKh0BAKjc8nvXjY6EbUuJQ5tteOx2CRucKjWOz7NW3nRyzvd3P34sVk+ousT1Shwq99rrpRPAcHa16a8a4Ap8/t4bS0cAYAuUONA+8znnhZ7Bxp341paqSyxetIoBAIDpNveFdX/XCduWEgdGYMRbvzoRlww2PhobzMT53TNzI/qUUMapx18pHQGGM+9HKSpnJQ5AVcb1k8fSpLaeVKZTOgBjM7KtX90VOA9HxKmIeE9s8n26ZCUOlXv/D15VOgIM5Vd/7VzpCADAFBlLibO2goBLKbYYRM75WM/Knidjtcy5J/oMNj6nxKFyX/xfTpSOAEM58Ut/sHQEgKlnsDHTxBpgaJnG1qwNC5yIiA/fcnZSsWAs/vMP3VY6AgAAVEOJAxOwxZk5vadSzcfqyVQ7os/360vnZkYXEgrYaawTlTt55mulI8BQDu29o3QEGNrhd+4tHQEmRokDg9ts1lPnMq8deGZOn1Op1rZV3d18dveOPMhbQmt987mV0hEAAKAaShwY0GaznkY576hxKtWRnPP93Y9/q/mslTjU7qY3+RoGAIbz3LMXS0eAiVHiQEt1Bxwv9Gyr+lLzmX27rGKgbi986dXSEWA4f7h0AABgmihxoN2WIuLW7q9PNW/u22U7FXXb/ZarS0eAIb1SOgAAMEWUONBija1V72ve/7VTg85KhnZ6222KSOr26FO7SkeAoTx4Z+kEMLyzTy2WjgATo8SB0dhs6HHE5Qcfv6HPSVYHos8qnIiIt+0/N+jbQiv9/G/vLh0BhvK9byqdAACYJkocGIHNhh5HbHnw8SUnWW12PPlnntmzhbeF9vnwEUUkADCcuS+cLB0BJkaJAwVtUNB0+ty7JyI+2Hz9HdecH2c8GLtf+887S0eAofzpuy3hBwAmR4kDZV2y6iZitbzprtzp9BwvfjQiHmu+eOlimkBEGJ+DN5ROAADUbvH5vpMHYFtS4kDL9A4z7tmGdV9E/FLz2Wt3OmKcuh1/eaZ0BICp9tDxE/HgnZ3SMWAou288UDoCTIwSByZjo8HHnY1e0DtnJ6V0IFa3VF3ieiUOlXv5ZV/D1O3eg+Y6AZS2css1pSPAxChxYAI2Gnw8yMDj7laqU9HnhKp//5KjbanbXQeVOAAlHdp7R+kIMLSZp18tHQEmRokDLbLBoOMDEXF3RKybnvnte5cnEQvG5rHn+h68BgAA9KHEgbKa26zeGGbcK6X0cPRZifP/PO8PwNTt5r0XSkcAACq3/N5DpSPAxChxoKDmNqveQqfPqpz3NF9/9z6zGKjb8VccMQ4AAINS4kC79K7MaR4xvs6XzMShct+2x0oc6maeCAAwSUocaJHGiVS9R4zfExEfjIgHep//L7/99cmFgzH46f/TXCfq9n1nny8dAYby+XtvLB0Bhrbn4O7SEWBilDhQh+sj4gvNi7tnc4EoMDq733J16QgAAFANJQ6013zOeSEiIqV0IPoMNl68mCadCUZqbqevYQAAGJQSBwrb4FjxiIhOz/11BU6ElTjUb/m8r2EAYDjff+fF0hFgYpQ4UN4bK2569czE6eSc7+833PiZs7MTiAfjYyUOAAAMTokDLbU25LinzDnQfOZzT/dbwAP1+JE/sFg6Agzlqh1Wk1E7g42p3+eO+4tNtoF3D/aYEgdGbJPtURvpDPg+fbdUQc3+9SmnSVC3jx46WzoCADBFlDgwen23R21k7RjxPqXN2jDjtX/fM7qI0A6/902rGKjcodIBADATh2mixIH22HA2TkS8LyI+2Lz3p25/ffypYIyOfdLXMJV7x97SCQCmnu1UbAu2U0E1ltYGGK9d2GBL1jeaLzTYmNq9+QM3lY4AQ7KdCgCYHCUOFNYzwHih5/K6VTkppV+eYCyYiJdfXikdAQAAqqHEgfZY6ilyOhHrVuSsW7Kwb5c/AFM3R4wDlPXQ8RPx4J2d0jEAGJASB1pibUVOxCXHindyzvd3r607YnzfLkNhqdvrZ3wNAwDAoJQ40ELNLVbdFTmOGAcAgIY3vdmcSKaHEgfarXfo8RPNmy+dsxWFul2119cwQEm2UgHURYkDLdazIudoRNxaOA6M3PJ526kAAGBQShyoQM75WLfIucS7blwuEQdG5qe/7muYyv3BudIJAKbe33rH6dIRYGJmSgcALs9KHAAAAKzEgZZqHC9+X0T8UvOZZ143xI265eusYqB2F0sHAACmiBIHrkCjYGnqjOjTzOecF7qfb93x4hERu3eYJwIAADAtlDhwZd4oWJrWjgUfpZzzA6N+TwAA2A6+9KKVvdTv3TcN9pwSBwqa0IoeaK0877chamc7FQAwOX56hrIuu6KnZ6jxqeazX3/VTBzqNnN6qXQEGFIqHQAAmCJKHGi/+Yh4MvqcTnXznpXJp4FRWrKKgdpZwg8ATI4SByqQcz7WXZFziX27lDjUbeb0udIRYEhKHABgcpQ40F5L3S1VnY1m5zidCgAAYHoocaClcs7HIt6YjbPh7Byo2cp1u0pHAACAasyUDgBc1lJ8azUOAAAAU0qJAy3XXZFzIjY+ihwAAIApYDvVZK3NOGEwndIBWmQpIo6UDgEjN++3IQAAGJSfnidobcYJg1F4fUv3dKqF5vXFC6lAGgBgu3jo+Il48M5O6RgADEiJA6O3lRVXna2879ajAAAAsF0ocWDEtrLiaiurjazkYltaulA6AQxprnQAGIpVOGwHXz7tv8VMDyUOVCKldFSRw3aTrzOvm9pdLB0AAJgiShxoue7R4vPRZ+vV4kUzcahbNtiY6ilxAIDJ8dMztN98znmhW+bAtpJspwIAgIEpcaAlelbcNHUizMQBAACYdkocaI/5nPNC8+Jmw4//40u+hamblTjUz7ZWAGBy/AkQKrC2SqdZ8nznPn8Apm7p9PnSEWBIu0sHAACmiBIH2m8pIo5ExBPNGy+dm5l8Ghghg40BAGBwfnqGlss5H+uuxPljEWEuDtuK7VTUb650AABgiihxoALdIufW5vVnXrcSh7rt/+59pSPAkBZLBwCYenddt1w6AkyMEgfKWuoZXNy5zLNPNi/s3pFHnQcm6ryfuQAAYGBKHCio99jwzU6h6lp3/Pi+XUoc6vb6GV/DAAAwKCUOtNTaiVQ9l+6LiIUyaWA8du4snQAAAOqhxGEq9SlItqozoiibueRI8ZTSus+5aCYsAADA1FDiMK0uKUi2aoCtT+Ow7ojx3b6Dqdz586UTAAC1+/JpJwUyPfwRENpjqVEOdXpv9s7PAQAAYPoocaAlmiVNc7VPSulo8xnbqaidmTgAZT10/EQ8eGendAwABqTEgRZrzO7pNO8vXkwTzQOjNrfT1zAAAAxKiQPttRQRR3LO90e8Uehc4tTZ2UlngpG6/vqZ0hEAgMp95WVLe5keShxoqZzzsbUtVRudpnX9zpVJx4KRev2Mr2GAkmylYjv4juudlMD0UOJAu60NO+5En9OpoHY7bacCAICBKXGgxdYGGXdX4hxp3n/5vK0o1M1MHAAAGJwSByrQ3Vq1bibO977Z0lHq9unPlU4Aw3nwD3dKRwAApogSB1qqZw7OgYi4NVa/Xy85YnzfLvNEqFs6vVQ6AgBQubuuWy4dASZGiQOFbTS0OCI6Oef7e1bgHGo+8MmvXD3WbDBus88+WzoCAFC5u/crcZgeShwobz7nvNC8mFI62h1q3LsS5xI/eHBx7OFgnB4/d7F0BACgcl96ca50BBjau28a7DklDrRUY6hxRJ+VOG+55sJEM8Go5Wt3lY4AQzl55mulI8BQDu29o3QEALZAiQMtt9FQY9gOVq5T4lA7s8kAgMlR4sAQNplnsxWdAd7zvoh4ecjPA62z43d8WVO7a0sHAACmiBIHhtN3ns1WdOfebPqeKaUDEXGq+dpnXp8d5lNDcfn963YJQmVeKR0AAJgiShyoQM75AVuq2I6Wz+fSEQAAoBpKHGi5nu1Vnea9fbvMYqBuM6eXSkcAAIBqKHGgvKXGlqpO4/58znnBShy2ozzvtyFqd750AABgivjpGQpbO0p8TUppoTHcuNPvuYiIzz7jZB/qpsQBAIb15dNzpSPAxPjpGdrpjeHGKaVf7a7UuSfn/KHehw7suVggGozOdft2lo4AAFTuruuWS0eAiVHiQPs9GREHIuKx5o3ds4bCUjeDjQHKOnnma3Fo7x2lYwAwICUOtM9SRBxZ+6DnZKr55oO7fQcDADDlbKdimvgjILRMzvlYY9Bx33k4sB2cNxMWoCircADqosSBFmuswDmQc36g977tVNTOdioAABicEgfarXfA8bojxnfv8Adg6paWLpSOAAAA1VDiwJVZ6m556kzq/W2pYjuaefZM6QgwpJnSAQCAKaLEgSuwVqg0Z9eM4f2P9nyOddupXjrnDw/Ubea5s6UjwJD2lg4AAEwRJQ60WO/qm5TSZ5r3H/7qVZMNBCP25/6qIpK6PfqUba3U7cE7SyeA4f2J2/ylENNDiQMtt9Hx4hERe/tehXp8c0mJQ90O771YOgLA1Pu//vOe0hFgaO++abDnlDjQMn1KmwPdfz9WIA6M1e+8srN0BBjK4b2LpSMATL27rlsuHQEmRokD7fPGiVRrUkq/HBG3Nx981w1Lk8oEY/Hrp3aXjgAAANVQ4kABm22RisaJV91nn4uIJ5oPLl1MI88GAABAOylxoIx1q23W9Dnxaj5WC5wjzWdfOW+eCHXbN79SOgIAAFRDiQPts9Qocjo55/u7K3IuMT/rVBTqdtZqMgAAGJgSB1qm91jxiG+tzGlej4g4fX52QqlgPPbvcrIPADCcu/cbbMz0UOLQZs0VKaPUGdP7jsNSSunhiDjV3IJ15NrzZRLBiPzz4xuNhoI6fO+bSicAAKaJEofW6rfyZFRGWA5dadHUGfTBnPOx7laq9zXvPbtoJQ5123+97VTU7d6D50pHAJh6X3pxrnQEGNq7bxrsOSUODOFKi6YrLH5ONi/YTkXtbKcCAIb15dNKHKaHEgdarOco8gMRcXfhOADANnPyzNfi0N47SseAofyJ286WjgATo8SBlukpbiK6J1N1r/9y81lHjFO7g1ddKB0BAACqocSB9plfG2CcUjra3Xp1ICKeaj547c6VySaDEXvhnCKSuh394jVx7B2vlo4BMNXMxGE7MBMH2m2zgcidtV+szdzprs65dfyxANgKBQ61s5UKoC5KHChgs4HIa+VOY1tVRJ8S53fP+Bambt+2x3Yq6uYPwADAJPkTILTPUs8WqlPda/dExA80H/zL3+lvgKnbn/vHO0tHgKF839nnS0eAoXz+3htLRwBgC5Q40DIbrdLprsy5xO7ZPP5AMEZpyUocAAAYlBIHWqyxpeq+iNhwGxYAAADbmxIH2q33pKpO8+buHVbiUDkrcQAAYGBKHGiRPsOMOz2/fqL5/OKFNO5IMF7zs6UTAACV+/JpR4wzPZQ40C5vrLyJ+NZJVRt56dzMuPMAAADQEkocaLme1TkHmvdsp6J2ed7fnAEAwKCUONBuSxFxJOd8f7/TqX7jWcczU7eZZ8+UjgDD+c75yz8DwFjddd1y6QgwMUocmIA+s2420un9IOd8LKV0tLutat1KnAN7Lo4kH5Ry9XftKx0BAACqocSBybhk1s1GmjNwGlupTo0lGQAAVOzu/VbiMD2UONBu8znnhW6Z877mzbdcYyUOdXv1ybOlI8BQ9u/fWzoCADBFlDjQLkuN1Tidnl+fbD7siHFqt3KdeSL/f3v3HixnXd9x/PNJyD3hkgTSSUJYwr3ghItYNdpG64VhRAWtIU0vmVaQaWsrFSx1mGmUacGixikwFdpOWzqAWrCClmIrQguVSJGLXEK4JBjgaJEklIScc8jl2z+eZ5nnPGf3ZM95zu6zz9n3a4bJ7u/5PXu+y/z22d3v/n7fHwAAANAqkjhAF4mIK7L3M/VwapIW5Pv37yWJg2qbMpUxDAAAALSKJA7QxepJnUY7U0lS/57OxgOMt6lssAYAAAC0jCQOkDGKXaRGq1bk5PouVfl2ZuKg6vqf2VF2CEAhm1/goxSqrfY/O/Xcnx1ZdhhAIY9snVJ2CEBhbzustX588gCGamkXqdHK7zq1n775RFJ9Z6p3SBqy3IrCxqi6oCYOKs4DTIkEAACdQxIHKFmDpE0tItY0OL4pf+4/b57Z9viAdpp65zNlhwAUsnv54rJDAAphFg4AVAtJHKB8Q2b/ZGft5BI8S/InfuL4ne2ODWir/+gbtukaUClTRBIHAAB0DkkcoPtktxmvL6VaKGl9vuO2wUkdDAsYfzPnLyo7BKCQ3WUHAADQY69QEwe9gyQO0BkDI9TFqWXv5LcZl5oXXJ47bd94xAaUZ+rksiMACjny9NllhwAAPW/1UbvKDgHoGJI4QAc0SszU7a/ocZrAOVtSf/5Y/x52p0LFvU5xbgAAUAy7U2EiYHcqoIKazLg5q1n/Z15lFgMAAAB627J5LG5F7yCJA3SXYVuc267XxXlrvvPcadGhsID2+N8tw0o9AZWyWCeWHQIA9LzPPnBw2SEAhd11Zmv9SImqvlMAAA3SSURBVOIA5cvWy6llD6Qzc/qanbhtkOVUqLYFS4blJgEAAEblxENeLzsEoGNI4gAly9bLsX1JrkZOLSLWpMmcYVMWmIkDAAAAAL2DJA7QRfIFkDNJnZqkJ/P9qYmDqtv18otlhwAUxHIqAADQOSRxgC5WT+qkM3GW5o8vmsUW46i2mQuXlB0CUMg//vK2skMACjq07AAAAKNAEgeojmHfdn/0Mtspotq8gzXsAACgmMe3Ty07BKBjSOKgVw3kas/U1TocR0MNtho/TQ1q4vziwWyniGr71zl86AIAAABaRRIHPSlfe6auSWKn7RokbWoRsSZ3fEX+PJZToep2v/TzskMAClky+51lhwAAPY/dqdBLSOIA3WF6RKyt37G9tkFiB5hw+ge3lh0CUMiWnRvLDgEoZMns48oOAQAwCiRxgO40oKSQcV96f6F4vWICIokDAAAAtI4vhUAXarDV+HWSNuX7vfjapI7FBLTDjGnzyg4BAHralp0bmY0DABVCEgdosxaXRdX2c3yTGtTEAarugMkzyw4BAABU3Els9oEeQhIHaL8h9W4aabGg8pZ8A4WNUXUzps8tOwSgkHev2KTv37207DAAAECPIIkDdLHMLJ6apAX54zMmR6dDAsZV/8C2skMACrlv/ZvLDgEohKVUAFAtJHGALtJsq3Hb/ybpsHz//r3uWGxAO2x79amyQwAKIokDAGVbNo/lVOgdJHGA7pLfavySdKnVHknb850pbIyqO3DW4rJDAAAAACqDJA7QHQbSZE0t21jfpSqdoXN2/qR/empWJ2ID2mb2KaeWHQIAAKi4G55lowRU39uGrbtojCQO0AWyyZpMkeOFkvpGOu+0w15vc2RAe/10x2DZIQAFzS47AADoeauP2lV2CEDHkMQBukg9mSMNqY/TNJlz2nzW/6LavjOVtyEAAFDMI1unlB0CUBgzcYCKyy2lmi5pWBVjdqdC1fVvfLrsEIBCbn9+edkhAIVccELZEQDFUdgYvYQkDjDUQGY503ipFTk5Iq6wfYek0/PH2J0KVcfuVKg+kjgAUDZm4mAiYCYOMAbZ5UzjZSxJoQZbje+W9Ll8v22DJHEAAADQ25iJg15CEgfoTsO2GtfQpI4k6egD93YyJmDcLZi7rOwQAABAxbE7FSYCZuIAFdEkQVPL3kmXVF2SP3fb4KQ2Rga03+49/WWHAAAAAFQGSRygfENm3UhDl2Blkjyn5U+ksDGqbs9etgQFAAAAWkUSB+hO2QLLtYhY02gmDoWNUXUzps0rOwQAAFBxJx1MTRz0DpI4QBfKFli2vbZ5TZw9HY0LGG/9g1vLDgEAAACoDJI4QPcbkHS8pCfzB6iJg6qbM2tx2SEAAAAAlUESB+hymaLG50gasgX6f/1sajlBAQAAAF2CLcbRS0jiAO2XrW/TSG2kk9MEzgpJp+ePTaewMaruCGriAECZvrrhOV1wQq3sMIBCHtk6pewQgMLYYhzoEtn6No00S/Bk6uAslLRF0p35Potm7h2HCIESvU5dJwAAAKBVJHGA7vXG1uONdqaS2J0KE8BU3oYAoEzMwgGAauHTM9BFcrtQ1ertmbo4Q7zlUNb/otom9e0oOwSgoBbnPgMA2ubMwwfLDgHoGJI4QHcZMvvG9nWS+tJjC0uLCmiTmENxbgAAUMztz08rOwSgsAtOaK0fSRygS2Vm39Tr4vTl+7z42uSOxwWMp33zZ5YdAgAAAFAZJHGALlYvipwmc5bmj8+dtq/jMQHjyTuY/gwAAAC0iiQOUL7sFuS1Rh2a1cQBKo/CxgAAAEDL+PQMlCy7BXkL240Pwe5UqDpm4gAAgKIee2VK2SEAHUMSB+hCDZI2Z0n6dknhAG1DTRwAAACgdSRxgO70xi5VkmS7Jmkg36l/DzNxUG0e3Ft2CAAAAEBlkMQBuku9Pk4t1/6kGhQ2/l4f2ymi2lhOBQAAALSOJA7QRTK7Ua2ttzWrhyNJj29l/S+qLeaQiAQAAABaRRIH6E7ZHasWpv8Om4mzaA5bjKPaXlgyp+wQAAAAgMpwRJQdAwB0LdvnR8R1ZccBjBVjGFXHGMZEwDhG1TGGu8eksgMAgC53ftkBAAUxhlF1jGFMBIxjVB1juEuQxAEAAAAAAKgAkjgAAAAAAAAVQBIHAEbG2l9UHWMYVccYxkTAOEbVMYa7BIWNAQAAAAAAKoCZOAAAAAAAABVAEgdAT7C91/bDmf8uSdvvtr3R9o9tP2n7atsH584923bYPj7TVrPdb/sh2xts32/7tzv9vDAx5cdcOt7C9iczfa62vSa9bduX2n7a9lO277J9Yqbvc7YfTcf5f9o+InOs2WvjA+n4fsT2E7Y/0bH/AZhQ0rH7pcz9i2yvTW+vtf1iOvYes/3BBu0P274ic/6htnfnx2Q6zu/JtT1s+7G2PkH0BNs7c/fX2L46c/9j6bXycds3Ztqz19jbMu2/avvBtP1e20fnHv+j6Wvnze18Xpj4Rvs+n7v+PmF7Veax/sH25sxj/SD3t261fV+uba3tizrxXHvFAWUHAAAd0h8RJzc5tjoiHrA9VdLlkm6V9CuZ46sk3SvpXElrM+3PRsQpkmR7qaRv2p4UEX8/7tGj1zQacy9J+iPb10bE67n+vy/p7ZKWRcQu2++TdJvtEyNiIO3zroh42fbnJF0q6by0fdhrw/YUJWvf3xIRL9ieJqk2vk8RPWRQ0jm2L4+IlxscXxcRX7R9gqR7bB+WbW/Q/9ckrVfyOrk2d2yO7cMj4vn08YC2s32MpD+VtDwitmfGsNT888dfS/pQRGyw/XtKrstr0sebI+kPJf2wvZGjR4zlfb5+XT5G0o9s3xwRu9NjF0fEzfk/4uRH0FMl7bR9ZERsbsuzATNxAKAu/WL8GUlLbC+TJNuzJS2X9LtKvlA3O3eTpD9W8qELGLMRxtzPJd0pqdGMrz+R9MmI2CVJEfHvkn4gaXWDvvdJWrSfMOYo+aFna/p4gxGxcRRPA8jao+TLwoUjdYqIDWnf+ft5vFWSPi1pse38WP6GpJWZfjeNOlpg9M6TdE1EbJekiHiphXNC0oHp7YMk9WWOXSbpLyUN5E8CxklL7/MR8bSkXZIOaeExPyLp25K+phE+M6M4kjgAesWM3FTSlY06RcReSY9Iqi+d+rCkOyLiKUnbbJ86wt94MHMeMFYjjbkrJH3a9uR6g+0DJc2KiGdzj/OApBM13BmSvpW5P+y1ERHbJN0m6Se2b7K92jafGVDENZJW2z6oWQfbvyRpn5KEpSRdmBmX70/7HC7pFyLifg1N2NTdLOmc9PZZSr5QAONhyLVS0uczx46VdKzt/7a93vYZmWPTbT+Qtn840/5xSbfbfkHSbyq5vsv2KZIOj4jvtPn5oHeM+X0+/QzydC4xeWXmsW7ItNcT5zelt9EmLKcC0CtGWk6V58ztVZK+kt7+Wnr/wRbOA8aq0Zi7RpIiYrPt+yX9eguPYyW/9NbdZXuBkmVZl2baG742IuLjtt8k6T2SLpL0XqVT/YHRiohXbV+vZLZif+7whbZ/Q9IOSSsjImxLjZdTnaskeSMlr4+/k/TlzPFtkrbbPlfSBiW/IAPjYci10klNsnq9mgMkHSNphaTFSpYFnhQRr0haEhF96bLr79t+NE26XyjpzIj4oe2LJX3Z9vmS1olrLcbXWN7nL7R9nqSlSn78yRq2nCr9fHG0pHvTa/ie9DVATbI24Fc1AMhIZzi8SdIG2/MkvVvS39p+TtLFklY6/XbRwClKvjQAY9JszGlogvAvlCyfmiQlX44lvZZ+Qcg6VdITmfvvknSEpMc19BfkpiLi0YhYp+SD3UdG+3yAnK8oWSY4K9e+LiJOjoh3RsQ9Dc7LWiVpTfr6uE3SsrRmQ9bXlSQ+WUqFTnlB0q0RsTutA7JRSVJHEdGX/rtJ0t2STrF9qJIaZvWaN19XUtdsjqSTJN2djvG3KqlvRnFjtMUI7/PrIuI4JZ9Brrc9fT8PtVLJkqvN6ditiSVVbUMSBwBSaZG3yyU9HxE/lvRRSddHxBERUYuIwyVtlvSOBufWJH1R0lWdixgTULMxt7jeISKeVJKc+UDmvCsl/ZXtGZJk+z1KxumNmT6KiH5Jn5L0W7bnNgvC9mzbKzJNJ0v6SZEnBqTT97+hJJEzaraPU7J0cFH6+qgpuWbnvyj8i5J6It8tEC4wGt9SkiiX7flKlldtsn1IWjC23r5cyfV7u6SDbB+bnv9eSRsi4v8iYn5mfK+X9MGIeKCzTwcTXavv8xHxTSXLs/e3A+sqSWdkxu5pIonTNiynAtArZqRr2OvuiIhL0ts32B6UNE3S9yR9KG1fpXSNesYtSpayfEHSUbYfkjRdyTKAq9iZCgU1G3OfzbX9uaSHMvevUvIL2KO290r6mZJdT/LLVhQRP7V9k5IdrS5Tg9dG+vifsX2tkqUvr4np/RgfX5L0B2M8d5WSBE3WLUqWVV1Wb4iIHUqu0Wo+cRIYV9+V9D7bT0jaq2S5yVbbb5d0re19Sn48vyIinpCkdKnKLemx7ZJ+p6TYMfEVfZ//vKQbbf9Nev9K29ll2R+TtERJ0lHSG8u/X01rnUnSpbY/lTm+WBgzR8T+ewEAAAAAAKBULKcCAAAAAACoAJI4AAAAAAAAFUASBwAAAAAAoAJI4gAAAAAAAFQASRwAAAAAAIAKIIkDAAAAAABQASRxAAAAAAAAKoAkDgAAAAAAQAX8Pw/UMKXURaBeAAAAAElFTkSuQmCC
"
>
</div>

</div>

</div>
</div>

</div>
 


    </div>
  </div>

  </div>


  
    <footer class="footer hidden-print">
      <div class="container">
        <div class="col-md-4">
          <p>
            This website does not host notebooks, it only renders notebooks
            available on other websites.
          </p>
        </div>

        <div class="col-md-4">
          <p>
            Delivered by <a href="http://www.fastly.com/">Fastly</a>,
            Rendered by <a href="https://developer.rackspace.com/?nbviewer=awesome">Rackspace</a>
          </p>
          <p>
            nbviewer GitHub <a href="https://github.com/jupyter/nbviewer">repository</a>.
          </p>
        </div>

        <div class="col-md-4">
          
  
            
              <p>
                nbviewer version:
                <a href="https://github.com/jupyter/nbviewer/commit/aa567da928dd022ce6a75b6c131a5ef3ff5c211a">
                  aa567da
                </a>
              </p>
            
          
  
  <p>
    nbconvert version: <a href="https://github.com/jupyter/nbconvert/releases/tag/5.3.1">
      5.3.1
    </a>
  </p>
  

          
  
  
  <p>
    Rendered
    <span class='date' data-date='Fri, 23 Nov 2018 16:29:24 UTC' title='Fri, 23 Nov 2018 16:29:24 UTC'>(Fri, 23 Nov 2018 16:29:24 UTC)</span>
  </p>
  

        </div>
      </div>
    </footer>
  

  <script src="/static/components/bootstrap/js/bootstrap.min.js?v=5869c96cc8f19086aee625d670d741f9"></script>
  <script src="/static/components/headroom.js/dist/headroom.min.js?v=b0a311ea668f8e768ea375f4a7abb81c"></script>
  <script src="/static/components/headroom.js/dist/jQuery.headroom.min.js?v=f3a1bae118315d0c234afc74dc6aab71"></script>

  
  
  <script>
    $(function(){ $("#menubar").headroom({
      tolerance: 5,
      offset: 205,
      classes: {
        initial: "animated",
        pinned: "slideInDown",
        unpinned: "slideOutUp"
      }
    })});
  </script>


  
  <script>
    (function(i,s,o,g,r,a,m){i['GoogleAnalyticsObject']=r;i[r]=i[r]||function(){
      (i[r].q=i[r].q||[]).push(arguments)},i[r].l=1*new Date();a=s.createElement(o),
      m=s.getElementsByTagName(o)[0];a.async=1;a.src=g;m.parentNode.insertBefore(a,m)
    })(window,document,'script','https://www.google-analytics.com/analytics.js','ga');
    ga('create', 'UA-52617120-5', 'auto',
       {'storage': 'none'});
    ga('set', 'anonymizeIp', true);
    ga('send', 'pageview');
  </script>
  
  <script>
    require({
        paths: {
          moment: "/static/components/moment/min/moment.min.js?v=89f87298ad94aa1e6b92f42eb66da043"
        }
      }, ["moment"], function(moment){
      var date = $("footer .date"),
        m = moment(new Date(date.data('date'))),
        update = function(){ date.text(m.fromNow()); };
      setInterval(update, 61*1000);
      update();
      var w = $(window).scroll(function(event){
        $("body").toggleClass("scrolled", w.scrollTop() > 0);
      });
    });
  </script>

  <!--NEW RELIC Stop Perf Measurement-->
  
  <!--NEW RELIC End-->
</body>
</html>